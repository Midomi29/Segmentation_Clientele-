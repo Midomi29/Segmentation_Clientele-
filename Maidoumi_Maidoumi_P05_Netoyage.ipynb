{
 "cells": [
  {
   "cell_type": "markdown",
   "id": "a26f6de1",
   "metadata": {
    "papermill": {
     "duration": 0.069668,
     "end_time": "2021-10-10T15:44:06.044877",
     "exception": false,
     "start_time": "2021-10-10T15:44:05.975209",
     "status": "completed"
    },
    "tags": []
   },
   "source": [
    "  #                          Segmentation des clients  E-Commerce Olist"
   ]
  },
  {
   "cell_type": "markdown",
   "id": "f694356e",
   "metadata": {
    "papermill": {
     "duration": 0.060492,
     "end_time": "2021-10-10T15:44:06.295145",
     "exception": false,
     "start_time": "2021-10-10T15:44:06.234653",
     "status": "completed"
    },
    "tags": []
   },
   "source": [
    "# Sommaire"
   ]
  },
  {
   "cell_type": "markdown",
   "id": "5f4ca76d",
   "metadata": {
    "papermill": {
     "duration": 0.060549,
     "end_time": "2021-10-10T15:44:06.416661",
     "exception": false,
     "start_time": "2021-10-10T15:44:06.356112",
     "status": "completed"
    },
    "tags": []
   },
   "source": [
    "1. Chargement et description\n",
    "\n",
    "2. Feature engineering.\n",
    "\n",
    "3. Exploration uni et multi-dimentielle."
   ]
  },
  {
   "cell_type": "code",
   "execution_count": 61,
   "id": "0813bc04",
   "metadata": {
    "execution": {
     "iopub.execute_input": "2021-10-10T15:44:06.544777Z",
     "iopub.status.busy": "2021-10-10T15:44:06.543682Z",
     "iopub.status.idle": "2021-10-10T15:44:07.369534Z",
     "shell.execute_reply": "2021-10-10T15:44:07.368792Z",
     "shell.execute_reply.started": "2021-10-10T15:39:01.487375Z"
    },
    "papermill": {
     "duration": 0.890904,
     "end_time": "2021-10-10T15:44:07.369713",
     "exception": false,
     "start_time": "2021-10-10T15:44:06.478809",
     "status": "completed"
    },
    "tags": []
   },
   "outputs": [],
   "source": [
    "# Librairies import\n",
    "import os\n",
    "import numpy as np\n",
    "import pandas as pd\n",
    "import matplotlib.pyplot as plt\n",
    "import seaborn as sns\n",
    "from math import radians, cos, sin, asin, sqrt"
   ]
  },
  {
   "cell_type": "markdown",
   "id": "334d6180",
   "metadata": {
    "papermill": {
     "duration": 0.060352,
     "end_time": "2021-10-10T15:44:07.492116",
     "exception": false,
     "start_time": "2021-10-10T15:44:07.431764",
     "status": "completed"
    },
    "tags": []
   },
   "source": [
    "# Chargement et description"
   ]
  },
  {
   "cell_type": "markdown",
   "id": "a22094d6",
   "metadata": {
    "papermill": {
     "duration": 0.062762,
     "end_time": "2021-10-10T15:44:07.615453",
     "exception": false,
     "start_time": "2021-10-10T15:44:07.552691",
     "status": "completed"
    },
    "tags": []
   },
   "source": [
    "## Chargement des datasets\n",
    "\n",
    "\n",
    "### Les clients"
   ]
  },
  {
   "cell_type": "code",
   "execution_count": 62,
   "id": "6dbf7968",
   "metadata": {
    "execution": {
     "iopub.execute_input": "2021-10-10T15:44:07.758952Z",
     "iopub.status.busy": "2021-10-10T15:44:07.757949Z",
     "iopub.status.idle": "2021-10-10T15:44:08.188441Z",
     "shell.execute_reply": "2021-10-10T15:44:08.188917Z",
     "shell.execute_reply.started": "2021-10-10T15:39:02.297664Z"
    },
    "papermill": {
     "duration": 0.513658,
     "end_time": "2021-10-10T15:44:08.189092",
     "exception": false,
     "start_time": "2021-10-10T15:44:07.675434",
     "status": "completed"
    },
    "tags": []
   },
   "outputs": [
    {
     "data": {
      "text/html": [
       "<div>\n",
       "<style scoped>\n",
       "    .dataframe tbody tr th:only-of-type {\n",
       "        vertical-align: middle;\n",
       "    }\n",
       "\n",
       "    .dataframe tbody tr th {\n",
       "        vertical-align: top;\n",
       "    }\n",
       "\n",
       "    .dataframe thead th {\n",
       "        text-align: right;\n",
       "    }\n",
       "</style>\n",
       "<table border=\"1\" class=\"dataframe\">\n",
       "  <thead>\n",
       "    <tr style=\"text-align: right;\">\n",
       "      <th></th>\n",
       "      <th>customer_id</th>\n",
       "      <th>customer_unique_id</th>\n",
       "      <th>customer_zip_code_prefix</th>\n",
       "      <th>customer_city</th>\n",
       "      <th>customer_state</th>\n",
       "    </tr>\n",
       "  </thead>\n",
       "  <tbody>\n",
       "    <tr>\n",
       "      <th>0</th>\n",
       "      <td>06b8999e2fba1a1fbc88172c00ba8bc7</td>\n",
       "      <td>861eff4711a542e4b93843c6dd7febb0</td>\n",
       "      <td>14409</td>\n",
       "      <td>franca</td>\n",
       "      <td>SP</td>\n",
       "    </tr>\n",
       "    <tr>\n",
       "      <th>1</th>\n",
       "      <td>18955e83d337fd6b2def6b18a428ac77</td>\n",
       "      <td>290c77bc529b7ac935b93aa66c333dc3</td>\n",
       "      <td>9790</td>\n",
       "      <td>sao bernardo do campo</td>\n",
       "      <td>SP</td>\n",
       "    </tr>\n",
       "    <tr>\n",
       "      <th>2</th>\n",
       "      <td>4e7b3e00288586ebd08712fdd0374a03</td>\n",
       "      <td>060e732b5b29e8181a18229c7b0b2b5e</td>\n",
       "      <td>1151</td>\n",
       "      <td>sao paulo</td>\n",
       "      <td>SP</td>\n",
       "    </tr>\n",
       "    <tr>\n",
       "      <th>3</th>\n",
       "      <td>b2b6027bc5c5109e529d4dc6358b12c3</td>\n",
       "      <td>259dac757896d24d7702b9acbbff3f3c</td>\n",
       "      <td>8775</td>\n",
       "      <td>mogi das cruzes</td>\n",
       "      <td>SP</td>\n",
       "    </tr>\n",
       "    <tr>\n",
       "      <th>4</th>\n",
       "      <td>4f2d8ab171c80ec8364f7c12e35b23ad</td>\n",
       "      <td>345ecd01c38d18a9036ed96c73b8d066</td>\n",
       "      <td>13056</td>\n",
       "      <td>campinas</td>\n",
       "      <td>SP</td>\n",
       "    </tr>\n",
       "  </tbody>\n",
       "</table>\n",
       "</div>"
      ],
      "text/plain": [
       "                        customer_id                customer_unique_id  \\\n",
       "0  06b8999e2fba1a1fbc88172c00ba8bc7  861eff4711a542e4b93843c6dd7febb0   \n",
       "1  18955e83d337fd6b2def6b18a428ac77  290c77bc529b7ac935b93aa66c333dc3   \n",
       "2  4e7b3e00288586ebd08712fdd0374a03  060e732b5b29e8181a18229c7b0b2b5e   \n",
       "3  b2b6027bc5c5109e529d4dc6358b12c3  259dac757896d24d7702b9acbbff3f3c   \n",
       "4  4f2d8ab171c80ec8364f7c12e35b23ad  345ecd01c38d18a9036ed96c73b8d066   \n",
       "\n",
       "   customer_zip_code_prefix          customer_city customer_state  \n",
       "0                     14409                 franca             SP  \n",
       "1                      9790  sao bernardo do campo             SP  \n",
       "2                      1151              sao paulo             SP  \n",
       "3                      8775        mogi das cruzes             SP  \n",
       "4                     13056               campinas             SP  "
      ]
     },
     "execution_count": 62,
     "metadata": {},
     "output_type": "execute_result"
    }
   ],
   "source": [
    "# root path for all dataset\n",
    "root_path = \"C:/Users/maido/Desktop/CentralSuplec/P05_segmentation/\"\n",
    "\n",
    "# olist_customers_dataset\n",
    "clients = pd.read_csv(root_path + \"olist_customers_dataset.csv\")\n",
    "clients.head(5)"
   ]
  },
  {
   "cell_type": "markdown",
   "id": "736e7771",
   "metadata": {
    "papermill": {
     "duration": 0.061939,
     "end_time": "2021-10-10T15:44:08.313701",
     "exception": false,
     "start_time": "2021-10-10T15:44:08.251762",
     "status": "completed"
    },
    "tags": []
   },
   "source": [
    "\n",
    "* customer_id : Clé client- commandes\n",
    "* customer_unique_id : Identifiant unique du client\n"
   ]
  },
  {
   "cell_type": "code",
   "execution_count": 63,
   "id": "75699bfa",
   "metadata": {
    "execution": {
     "iopub.execute_input": "2021-10-10T15:44:08.464143Z",
     "iopub.status.busy": "2021-10-10T15:44:08.463544Z",
     "iopub.status.idle": "2021-10-10T15:44:08.482735Z",
     "shell.execute_reply": "2021-10-10T15:44:08.483179Z",
     "shell.execute_reply.started": "2021-10-10T15:39:02.683630Z"
    },
    "papermill": {
     "duration": 0.107253,
     "end_time": "2021-10-10T15:44:08.483352",
     "exception": false,
     "start_time": "2021-10-10T15:44:08.376099",
     "status": "completed"
    },
    "tags": []
   },
   "outputs": [
    {
     "name": "stdout",
     "output_type": "stream",
     "text": [
      "<class 'pandas.core.frame.DataFrame'>\n",
      "RangeIndex: 99441 entries, 0 to 99440\n",
      "Data columns (total 5 columns):\n",
      " #   Column                    Non-Null Count  Dtype \n",
      "---  ------                    --------------  ----- \n",
      " 0   customer_id               99441 non-null  object\n",
      " 1   customer_unique_id        99441 non-null  object\n",
      " 2   customer_zip_code_prefix  99441 non-null  int64 \n",
      " 3   customer_city             99441 non-null  object\n",
      " 4   customer_state            99441 non-null  object\n",
      "dtypes: int64(1), object(4)\n",
      "memory usage: 3.8+ MB\n"
     ]
    }
   ],
   "source": [
    "clients.info()"
   ]
  },
  {
   "cell_type": "markdown",
   "id": "ab3a2aa8",
   "metadata": {
    "papermill": {
     "duration": 0.060612,
     "end_time": "2021-10-10T15:44:08.728536",
     "exception": false,
     "start_time": "2021-10-10T15:44:08.667924",
     "status": "completed"
    },
    "tags": []
   },
   "source": [
    "### Les données de géolocalisation"
   ]
  },
  {
   "cell_type": "code",
   "execution_count": 64,
   "id": "b302ebbf",
   "metadata": {
    "execution": {
     "iopub.execute_input": "2021-10-10T15:44:08.857283Z",
     "iopub.status.busy": "2021-10-10T15:44:08.856633Z",
     "iopub.status.idle": "2021-10-10T15:44:10.271861Z",
     "shell.execute_reply": "2021-10-10T15:44:10.272329Z",
     "shell.execute_reply.started": "2021-10-10T15:39:02.754251Z"
    },
    "papermill": {
     "duration": 1.482659,
     "end_time": "2021-10-10T15:44:10.272533",
     "exception": false,
     "start_time": "2021-10-10T15:44:08.789874",
     "status": "completed"
    },
    "scrolled": true,
    "tags": []
   },
   "outputs": [
    {
     "data": {
      "text/html": [
       "<div>\n",
       "<style scoped>\n",
       "    .dataframe tbody tr th:only-of-type {\n",
       "        vertical-align: middle;\n",
       "    }\n",
       "\n",
       "    .dataframe tbody tr th {\n",
       "        vertical-align: top;\n",
       "    }\n",
       "\n",
       "    .dataframe thead th {\n",
       "        text-align: right;\n",
       "    }\n",
       "</style>\n",
       "<table border=\"1\" class=\"dataframe\">\n",
       "  <thead>\n",
       "    <tr style=\"text-align: right;\">\n",
       "      <th></th>\n",
       "      <th>geolocation_zip_code_prefix</th>\n",
       "      <th>geolocation_lat</th>\n",
       "      <th>geolocation_lng</th>\n",
       "      <th>geolocation_city</th>\n",
       "      <th>geolocation_state</th>\n",
       "    </tr>\n",
       "  </thead>\n",
       "  <tbody>\n",
       "    <tr>\n",
       "      <th>0</th>\n",
       "      <td>1037</td>\n",
       "      <td>-23.545621</td>\n",
       "      <td>-46.639292</td>\n",
       "      <td>sao paulo</td>\n",
       "      <td>SP</td>\n",
       "    </tr>\n",
       "    <tr>\n",
       "      <th>1</th>\n",
       "      <td>1046</td>\n",
       "      <td>-23.546081</td>\n",
       "      <td>-46.644820</td>\n",
       "      <td>sao paulo</td>\n",
       "      <td>SP</td>\n",
       "    </tr>\n",
       "    <tr>\n",
       "      <th>2</th>\n",
       "      <td>1046</td>\n",
       "      <td>-23.546129</td>\n",
       "      <td>-46.642951</td>\n",
       "      <td>sao paulo</td>\n",
       "      <td>SP</td>\n",
       "    </tr>\n",
       "    <tr>\n",
       "      <th>3</th>\n",
       "      <td>1041</td>\n",
       "      <td>-23.544392</td>\n",
       "      <td>-46.639499</td>\n",
       "      <td>sao paulo</td>\n",
       "      <td>SP</td>\n",
       "    </tr>\n",
       "    <tr>\n",
       "      <th>4</th>\n",
       "      <td>1035</td>\n",
       "      <td>-23.541578</td>\n",
       "      <td>-46.641607</td>\n",
       "      <td>sao paulo</td>\n",
       "      <td>SP</td>\n",
       "    </tr>\n",
       "  </tbody>\n",
       "</table>\n",
       "</div>"
      ],
      "text/plain": [
       "   geolocation_zip_code_prefix  geolocation_lat  geolocation_lng  \\\n",
       "0                         1037       -23.545621       -46.639292   \n",
       "1                         1046       -23.546081       -46.644820   \n",
       "2                         1046       -23.546129       -46.642951   \n",
       "3                         1041       -23.544392       -46.639499   \n",
       "4                         1035       -23.541578       -46.641607   \n",
       "\n",
       "  geolocation_city geolocation_state  \n",
       "0        sao paulo                SP  \n",
       "1        sao paulo                SP  \n",
       "2        sao paulo                SP  \n",
       "3        sao paulo                SP  \n",
       "4        sao paulo                SP  "
      ]
     },
     "execution_count": 64,
     "metadata": {},
     "output_type": "execute_result"
    }
   ],
   "source": [
    "# olist_geolocation_dataset\n",
    "location = pd.read_csv(root_path + \"olist_geolocation_dataset.csv\")\n",
    "location.head(5)"
   ]
  },
  {
   "cell_type": "markdown",
   "id": "41312475",
   "metadata": {
    "papermill": {
     "duration": 0.063315,
     "end_time": "2021-10-10T15:44:11.014799",
     "exception": false,
     "start_time": "2021-10-10T15:44:10.951484",
     "status": "completed"
    },
    "tags": []
   },
   "source": [
    "### Les commandes clients"
   ]
  },
  {
   "cell_type": "code",
   "execution_count": 65,
   "id": "eb372b78",
   "metadata": {
    "execution": {
     "iopub.execute_input": "2021-10-10T15:44:11.149463Z",
     "iopub.status.busy": "2021-10-10T15:44:11.148812Z",
     "iopub.status.idle": "2021-10-10T15:44:11.884285Z",
     "shell.execute_reply": "2021-10-10T15:44:11.885051Z",
     "shell.execute_reply.started": "2021-10-10T15:39:04.655389Z"
    },
    "papermill": {
     "duration": 0.805113,
     "end_time": "2021-10-10T15:44:11.885339",
     "exception": false,
     "start_time": "2021-10-10T15:44:11.080226",
     "status": "completed"
    },
    "tags": []
   },
   "outputs": [
    {
     "data": {
      "text/html": [
       "<div>\n",
       "<style scoped>\n",
       "    .dataframe tbody tr th:only-of-type {\n",
       "        vertical-align: middle;\n",
       "    }\n",
       "\n",
       "    .dataframe tbody tr th {\n",
       "        vertical-align: top;\n",
       "    }\n",
       "\n",
       "    .dataframe thead th {\n",
       "        text-align: right;\n",
       "    }\n",
       "</style>\n",
       "<table border=\"1\" class=\"dataframe\">\n",
       "  <thead>\n",
       "    <tr style=\"text-align: right;\">\n",
       "      <th></th>\n",
       "      <th>order_id</th>\n",
       "      <th>customer_id</th>\n",
       "      <th>order_status</th>\n",
       "      <th>order_purchase_timestamp</th>\n",
       "      <th>order_approved_at</th>\n",
       "      <th>order_delivered_carrier_date</th>\n",
       "      <th>order_delivered_customer_date</th>\n",
       "      <th>order_estimated_delivery_date</th>\n",
       "    </tr>\n",
       "  </thead>\n",
       "  <tbody>\n",
       "    <tr>\n",
       "      <th>0</th>\n",
       "      <td>e481f51cbdc54678b7cc49136f2d6af7</td>\n",
       "      <td>9ef432eb6251297304e76186b10a928d</td>\n",
       "      <td>delivered</td>\n",
       "      <td>2017-10-02 10:56:33</td>\n",
       "      <td>2017-10-02 11:07:15</td>\n",
       "      <td>2017-10-04 19:55:00</td>\n",
       "      <td>2017-10-10 21:25:13</td>\n",
       "      <td>2017-10-18 00:00:00</td>\n",
       "    </tr>\n",
       "    <tr>\n",
       "      <th>1</th>\n",
       "      <td>53cdb2fc8bc7dce0b6741e2150273451</td>\n",
       "      <td>b0830fb4747a6c6d20dea0b8c802d7ef</td>\n",
       "      <td>delivered</td>\n",
       "      <td>2018-07-24 20:41:37</td>\n",
       "      <td>2018-07-26 03:24:27</td>\n",
       "      <td>2018-07-26 14:31:00</td>\n",
       "      <td>2018-08-07 15:27:45</td>\n",
       "      <td>2018-08-13 00:00:00</td>\n",
       "    </tr>\n",
       "    <tr>\n",
       "      <th>2</th>\n",
       "      <td>47770eb9100c2d0c44946d9cf07ec65d</td>\n",
       "      <td>41ce2a54c0b03bf3443c3d931a367089</td>\n",
       "      <td>delivered</td>\n",
       "      <td>2018-08-08 08:38:49</td>\n",
       "      <td>2018-08-08 08:55:23</td>\n",
       "      <td>2018-08-08 13:50:00</td>\n",
       "      <td>2018-08-17 18:06:29</td>\n",
       "      <td>2018-09-04 00:00:00</td>\n",
       "    </tr>\n",
       "    <tr>\n",
       "      <th>3</th>\n",
       "      <td>949d5b44dbf5de918fe9c16f97b45f8a</td>\n",
       "      <td>f88197465ea7920adcdbec7375364d82</td>\n",
       "      <td>delivered</td>\n",
       "      <td>2017-11-18 19:28:06</td>\n",
       "      <td>2017-11-18 19:45:59</td>\n",
       "      <td>2017-11-22 13:39:59</td>\n",
       "      <td>2017-12-02 00:28:42</td>\n",
       "      <td>2017-12-15 00:00:00</td>\n",
       "    </tr>\n",
       "    <tr>\n",
       "      <th>4</th>\n",
       "      <td>ad21c59c0840e6cb83a9ceb5573f8159</td>\n",
       "      <td>8ab97904e6daea8866dbdbc4fb7aad2c</td>\n",
       "      <td>delivered</td>\n",
       "      <td>2018-02-13 21:18:39</td>\n",
       "      <td>2018-02-13 22:20:29</td>\n",
       "      <td>2018-02-14 19:46:34</td>\n",
       "      <td>2018-02-16 18:17:02</td>\n",
       "      <td>2018-02-26 00:00:00</td>\n",
       "    </tr>\n",
       "  </tbody>\n",
       "</table>\n",
       "</div>"
      ],
      "text/plain": [
       "                           order_id                       customer_id  \\\n",
       "0  e481f51cbdc54678b7cc49136f2d6af7  9ef432eb6251297304e76186b10a928d   \n",
       "1  53cdb2fc8bc7dce0b6741e2150273451  b0830fb4747a6c6d20dea0b8c802d7ef   \n",
       "2  47770eb9100c2d0c44946d9cf07ec65d  41ce2a54c0b03bf3443c3d931a367089   \n",
       "3  949d5b44dbf5de918fe9c16f97b45f8a  f88197465ea7920adcdbec7375364d82   \n",
       "4  ad21c59c0840e6cb83a9ceb5573f8159  8ab97904e6daea8866dbdbc4fb7aad2c   \n",
       "\n",
       "  order_status order_purchase_timestamp    order_approved_at  \\\n",
       "0    delivered      2017-10-02 10:56:33  2017-10-02 11:07:15   \n",
       "1    delivered      2018-07-24 20:41:37  2018-07-26 03:24:27   \n",
       "2    delivered      2018-08-08 08:38:49  2018-08-08 08:55:23   \n",
       "3    delivered      2017-11-18 19:28:06  2017-11-18 19:45:59   \n",
       "4    delivered      2018-02-13 21:18:39  2018-02-13 22:20:29   \n",
       "\n",
       "  order_delivered_carrier_date order_delivered_customer_date  \\\n",
       "0          2017-10-04 19:55:00           2017-10-10 21:25:13   \n",
       "1          2018-07-26 14:31:00           2018-08-07 15:27:45   \n",
       "2          2018-08-08 13:50:00           2018-08-17 18:06:29   \n",
       "3          2017-11-22 13:39:59           2017-12-02 00:28:42   \n",
       "4          2018-02-14 19:46:34           2018-02-16 18:17:02   \n",
       "\n",
       "  order_estimated_delivery_date  \n",
       "0           2017-10-18 00:00:00  \n",
       "1           2018-08-13 00:00:00  \n",
       "2           2018-09-04 00:00:00  \n",
       "3           2017-12-15 00:00:00  \n",
       "4           2018-02-26 00:00:00  "
      ]
     },
     "execution_count": 65,
     "metadata": {},
     "output_type": "execute_result"
    }
   ],
   "source": [
    "# olist_orders_dataset\n",
    "commandes = pd.read_csv(root_path + \"olist_orders_dataset.csv\")\n",
    "commandes.head(5)"
   ]
  },
  {
   "cell_type": "code",
   "execution_count": 66,
   "id": "7767ccf3",
   "metadata": {
    "execution": {
     "iopub.execute_input": "2021-10-10T15:44:12.173010Z",
     "iopub.status.busy": "2021-10-10T15:44:12.172104Z",
     "iopub.status.idle": "2021-10-10T15:44:12.223799Z",
     "shell.execute_reply": "2021-10-10T15:44:12.224279Z",
     "shell.execute_reply.started": "2021-10-10T15:39:05.351969Z"
    },
    "papermill": {
     "duration": 0.119798,
     "end_time": "2021-10-10T15:44:12.224516",
     "exception": false,
     "start_time": "2021-10-10T15:44:12.104718",
     "status": "completed"
    },
    "tags": []
   },
   "outputs": [
    {
     "name": "stdout",
     "output_type": "stream",
     "text": [
      "<class 'pandas.core.frame.DataFrame'>\n",
      "RangeIndex: 99441 entries, 0 to 99440\n",
      "Data columns (total 8 columns):\n",
      " #   Column                         Non-Null Count  Dtype \n",
      "---  ------                         --------------  ----- \n",
      " 0   order_id                       99441 non-null  object\n",
      " 1   customer_id                    99441 non-null  object\n",
      " 2   order_status                   99441 non-null  object\n",
      " 3   order_purchase_timestamp       99441 non-null  object\n",
      " 4   order_approved_at              99281 non-null  object\n",
      " 5   order_delivered_carrier_date   97658 non-null  object\n",
      " 6   order_delivered_customer_date  96476 non-null  object\n",
      " 7   order_estimated_delivery_date  99441 non-null  object\n",
      "dtypes: object(8)\n",
      "memory usage: 6.1+ MB\n"
     ]
    }
   ],
   "source": [
    "commandes.info()"
   ]
  },
  {
   "cell_type": "markdown",
   "id": "1f54819f",
   "metadata": {
    "papermill": {
     "duration": 0.126288,
     "end_time": "2021-10-10T15:44:12.414125",
     "exception": false,
     "start_time": "2021-10-10T15:44:12.287837",
     "status": "completed"
    },
    "tags": []
   },
   "source": [
    "### Les articles"
   ]
  },
  {
   "cell_type": "code",
   "execution_count": 67,
   "id": "b9ebfdac",
   "metadata": {
    "execution": {
     "iopub.execute_input": "2021-10-10T15:44:12.545785Z",
     "iopub.status.busy": "2021-10-10T15:44:12.544866Z",
     "iopub.status.idle": "2021-10-10T15:44:13.032240Z",
     "shell.execute_reply": "2021-10-10T15:44:13.031667Z",
     "shell.execute_reply.started": "2021-10-10T15:39:05.452591Z"
    },
    "papermill": {
     "duration": 0.553366,
     "end_time": "2021-10-10T15:44:13.032387",
     "exception": false,
     "start_time": "2021-10-10T15:44:12.479021",
     "status": "completed"
    },
    "tags": []
   },
   "outputs": [
    {
     "data": {
      "text/html": [
       "<div>\n",
       "<style scoped>\n",
       "    .dataframe tbody tr th:only-of-type {\n",
       "        vertical-align: middle;\n",
       "    }\n",
       "\n",
       "    .dataframe tbody tr th {\n",
       "        vertical-align: top;\n",
       "    }\n",
       "\n",
       "    .dataframe thead th {\n",
       "        text-align: right;\n",
       "    }\n",
       "</style>\n",
       "<table border=\"1\" class=\"dataframe\">\n",
       "  <thead>\n",
       "    <tr style=\"text-align: right;\">\n",
       "      <th></th>\n",
       "      <th>order_id</th>\n",
       "      <th>order_item_id</th>\n",
       "      <th>product_id</th>\n",
       "      <th>seller_id</th>\n",
       "      <th>shipping_limit_date</th>\n",
       "      <th>price</th>\n",
       "      <th>freight_value</th>\n",
       "    </tr>\n",
       "  </thead>\n",
       "  <tbody>\n",
       "    <tr>\n",
       "      <th>0</th>\n",
       "      <td>00010242fe8c5a6d1ba2dd792cb16214</td>\n",
       "      <td>1</td>\n",
       "      <td>4244733e06e7ecb4970a6e2683c13e61</td>\n",
       "      <td>48436dade18ac8b2bce089ec2a041202</td>\n",
       "      <td>2017-09-19 09:45:35</td>\n",
       "      <td>58.90</td>\n",
       "      <td>13.29</td>\n",
       "    </tr>\n",
       "    <tr>\n",
       "      <th>1</th>\n",
       "      <td>00018f77f2f0320c557190d7a144bdd3</td>\n",
       "      <td>1</td>\n",
       "      <td>e5f2d52b802189ee658865ca93d83a8f</td>\n",
       "      <td>dd7ddc04e1b6c2c614352b383efe2d36</td>\n",
       "      <td>2017-05-03 11:05:13</td>\n",
       "      <td>239.90</td>\n",
       "      <td>19.93</td>\n",
       "    </tr>\n",
       "    <tr>\n",
       "      <th>2</th>\n",
       "      <td>000229ec398224ef6ca0657da4fc703e</td>\n",
       "      <td>1</td>\n",
       "      <td>c777355d18b72b67abbeef9df44fd0fd</td>\n",
       "      <td>5b51032eddd242adc84c38acab88f23d</td>\n",
       "      <td>2018-01-18 14:48:30</td>\n",
       "      <td>199.00</td>\n",
       "      <td>17.87</td>\n",
       "    </tr>\n",
       "    <tr>\n",
       "      <th>3</th>\n",
       "      <td>00024acbcdf0a6daa1e931b038114c75</td>\n",
       "      <td>1</td>\n",
       "      <td>7634da152a4610f1595efa32f14722fc</td>\n",
       "      <td>9d7a1d34a5052409006425275ba1c2b4</td>\n",
       "      <td>2018-08-15 10:10:18</td>\n",
       "      <td>12.99</td>\n",
       "      <td>12.79</td>\n",
       "    </tr>\n",
       "    <tr>\n",
       "      <th>4</th>\n",
       "      <td>00042b26cf59d7ce69dfabb4e55b4fd9</td>\n",
       "      <td>1</td>\n",
       "      <td>ac6c3623068f30de03045865e4e10089</td>\n",
       "      <td>df560393f3a51e74553ab94004ba5c87</td>\n",
       "      <td>2017-02-13 13:57:51</td>\n",
       "      <td>199.90</td>\n",
       "      <td>18.14</td>\n",
       "    </tr>\n",
       "  </tbody>\n",
       "</table>\n",
       "</div>"
      ],
      "text/plain": [
       "                           order_id  order_item_id  \\\n",
       "0  00010242fe8c5a6d1ba2dd792cb16214              1   \n",
       "1  00018f77f2f0320c557190d7a144bdd3              1   \n",
       "2  000229ec398224ef6ca0657da4fc703e              1   \n",
       "3  00024acbcdf0a6daa1e931b038114c75              1   \n",
       "4  00042b26cf59d7ce69dfabb4e55b4fd9              1   \n",
       "\n",
       "                         product_id                         seller_id  \\\n",
       "0  4244733e06e7ecb4970a6e2683c13e61  48436dade18ac8b2bce089ec2a041202   \n",
       "1  e5f2d52b802189ee658865ca93d83a8f  dd7ddc04e1b6c2c614352b383efe2d36   \n",
       "2  c777355d18b72b67abbeef9df44fd0fd  5b51032eddd242adc84c38acab88f23d   \n",
       "3  7634da152a4610f1595efa32f14722fc  9d7a1d34a5052409006425275ba1c2b4   \n",
       "4  ac6c3623068f30de03045865e4e10089  df560393f3a51e74553ab94004ba5c87   \n",
       "\n",
       "   shipping_limit_date   price  freight_value  \n",
       "0  2017-09-19 09:45:35   58.90          13.29  \n",
       "1  2017-05-03 11:05:13  239.90          19.93  \n",
       "2  2018-01-18 14:48:30  199.00          17.87  \n",
       "3  2018-08-15 10:10:18   12.99          12.79  \n",
       "4  2017-02-13 13:57:51  199.90          18.14  "
      ]
     },
     "execution_count": 67,
     "metadata": {},
     "output_type": "execute_result"
    }
   ],
   "source": [
    "# olist_order_items_dataset\n",
    "order_items = pd.read_csv(root_path + \"olist_order_items_dataset.csv\")\n",
    "order_items.head(5)"
   ]
  },
  {
   "cell_type": "code",
   "execution_count": 68,
   "id": "58f5aff5",
   "metadata": {
    "execution": {
     "iopub.execute_input": "2021-10-10T15:44:13.292539Z",
     "iopub.status.busy": "2021-10-10T15:44:13.291674Z",
     "iopub.status.idle": "2021-10-10T15:44:13.327497Z",
     "shell.execute_reply": "2021-10-10T15:44:13.326665Z",
     "shell.execute_reply.started": "2021-10-10T15:39:05.898311Z"
    },
    "papermill": {
     "duration": 0.10442,
     "end_time": "2021-10-10T15:44:13.327694",
     "exception": false,
     "start_time": "2021-10-10T15:44:13.223274",
     "status": "completed"
    },
    "tags": []
   },
   "outputs": [
    {
     "name": "stdout",
     "output_type": "stream",
     "text": [
      "<class 'pandas.core.frame.DataFrame'>\n",
      "RangeIndex: 112650 entries, 0 to 112649\n",
      "Data columns (total 7 columns):\n",
      " #   Column               Non-Null Count   Dtype  \n",
      "---  ------               --------------   -----  \n",
      " 0   order_id             112650 non-null  object \n",
      " 1   order_item_id        112650 non-null  int64  \n",
      " 2   product_id           112650 non-null  object \n",
      " 3   seller_id            112650 non-null  object \n",
      " 4   shipping_limit_date  112650 non-null  object \n",
      " 5   price                112650 non-null  float64\n",
      " 6   freight_value        112650 non-null  float64\n",
      "dtypes: float64(2), int64(1), object(4)\n",
      "memory usage: 6.0+ MB\n"
     ]
    }
   ],
   "source": [
    "order_items.info()"
   ]
  },
  {
   "cell_type": "markdown",
   "id": "8f9b2069",
   "metadata": {
    "papermill": {
     "duration": 0.064028,
     "end_time": "2021-10-10T15:44:13.456873",
     "exception": false,
     "start_time": "2021-10-10T15:44:13.392845",
     "status": "completed"
    },
    "tags": []
   },
   "source": [
    "### Les reglements"
   ]
  },
  {
   "cell_type": "code",
   "execution_count": 69,
   "id": "56da1c0a",
   "metadata": {
    "execution": {
     "iopub.execute_input": "2021-10-10T15:44:13.590571Z",
     "iopub.status.busy": "2021-10-10T15:44:13.589906Z",
     "iopub.status.idle": "2021-10-10T15:44:13.755464Z",
     "shell.execute_reply": "2021-10-10T15:44:13.755929Z",
     "shell.execute_reply.started": "2021-10-10T15:39:05.964734Z"
    },
    "papermill": {
     "duration": 0.235005,
     "end_time": "2021-10-10T15:44:13.756130",
     "exception": false,
     "start_time": "2021-10-10T15:44:13.521125",
     "status": "completed"
    },
    "tags": []
   },
   "outputs": [
    {
     "data": {
      "text/html": [
       "<div>\n",
       "<style scoped>\n",
       "    .dataframe tbody tr th:only-of-type {\n",
       "        vertical-align: middle;\n",
       "    }\n",
       "\n",
       "    .dataframe tbody tr th {\n",
       "        vertical-align: top;\n",
       "    }\n",
       "\n",
       "    .dataframe thead th {\n",
       "        text-align: right;\n",
       "    }\n",
       "</style>\n",
       "<table border=\"1\" class=\"dataframe\">\n",
       "  <thead>\n",
       "    <tr style=\"text-align: right;\">\n",
       "      <th></th>\n",
       "      <th>order_id</th>\n",
       "      <th>payment_sequential</th>\n",
       "      <th>payment_type</th>\n",
       "      <th>payment_installments</th>\n",
       "      <th>payment_value</th>\n",
       "    </tr>\n",
       "  </thead>\n",
       "  <tbody>\n",
       "    <tr>\n",
       "      <th>0</th>\n",
       "      <td>b81ef226f3fe1789b1e8b2acac839d17</td>\n",
       "      <td>1</td>\n",
       "      <td>credit_card</td>\n",
       "      <td>8</td>\n",
       "      <td>99.33</td>\n",
       "    </tr>\n",
       "    <tr>\n",
       "      <th>1</th>\n",
       "      <td>a9810da82917af2d9aefd1278f1dcfa0</td>\n",
       "      <td>1</td>\n",
       "      <td>credit_card</td>\n",
       "      <td>1</td>\n",
       "      <td>24.39</td>\n",
       "    </tr>\n",
       "    <tr>\n",
       "      <th>2</th>\n",
       "      <td>25e8ea4e93396b6fa0d3dd708e76c1bd</td>\n",
       "      <td>1</td>\n",
       "      <td>credit_card</td>\n",
       "      <td>1</td>\n",
       "      <td>65.71</td>\n",
       "    </tr>\n",
       "    <tr>\n",
       "      <th>3</th>\n",
       "      <td>ba78997921bbcdc1373bb41e913ab953</td>\n",
       "      <td>1</td>\n",
       "      <td>credit_card</td>\n",
       "      <td>8</td>\n",
       "      <td>107.78</td>\n",
       "    </tr>\n",
       "    <tr>\n",
       "      <th>4</th>\n",
       "      <td>42fdf880ba16b47b59251dd489d4441a</td>\n",
       "      <td>1</td>\n",
       "      <td>credit_card</td>\n",
       "      <td>2</td>\n",
       "      <td>128.45</td>\n",
       "    </tr>\n",
       "  </tbody>\n",
       "</table>\n",
       "</div>"
      ],
      "text/plain": [
       "                           order_id  payment_sequential payment_type  \\\n",
       "0  b81ef226f3fe1789b1e8b2acac839d17                   1  credit_card   \n",
       "1  a9810da82917af2d9aefd1278f1dcfa0                   1  credit_card   \n",
       "2  25e8ea4e93396b6fa0d3dd708e76c1bd                   1  credit_card   \n",
       "3  ba78997921bbcdc1373bb41e913ab953                   1  credit_card   \n",
       "4  42fdf880ba16b47b59251dd489d4441a                   1  credit_card   \n",
       "\n",
       "   payment_installments  payment_value  \n",
       "0                     8          99.33  \n",
       "1                     1          24.39  \n",
       "2                     1          65.71  \n",
       "3                     8         107.78  \n",
       "4                     2         128.45  "
      ]
     },
     "execution_count": 69,
     "metadata": {},
     "output_type": "execute_result"
    }
   ],
   "source": [
    "# olist_order_payments_dataset\n",
    "order_payments = pd.read_csv(root_path + \"olist_order_payments_dataset.csv\")\n",
    "order_payments.head(5)"
   ]
  },
  {
   "cell_type": "markdown",
   "id": "57667394",
   "metadata": {
    "papermill": {
     "duration": 0.065562,
     "end_time": "2021-10-10T15:44:13.888090",
     "exception": false,
     "start_time": "2021-10-10T15:44:13.822528",
     "status": "completed"
    },
    "tags": []
   },
   "source": [
    "* payment_sequential :  méthodes de paiement appliquées.\n",
    "* payment_installments : Nombre de versements "
   ]
  },
  {
   "cell_type": "code",
   "execution_count": 70,
   "id": "7519bf2b",
   "metadata": {
    "execution": {
     "iopub.execute_input": "2021-10-10T15:44:14.024420Z",
     "iopub.status.busy": "2021-10-10T15:44:14.023783Z",
     "iopub.status.idle": "2021-10-10T15:44:14.044695Z",
     "shell.execute_reply": "2021-10-10T15:44:14.045193Z",
     "shell.execute_reply.started": "2021-10-10T15:39:06.138089Z"
    },
    "papermill": {
     "duration": 0.091862,
     "end_time": "2021-10-10T15:44:14.045374",
     "exception": false,
     "start_time": "2021-10-10T15:44:13.953512",
     "status": "completed"
    },
    "tags": []
   },
   "outputs": [
    {
     "name": "stdout",
     "output_type": "stream",
     "text": [
      "<class 'pandas.core.frame.DataFrame'>\n",
      "RangeIndex: 103886 entries, 0 to 103885\n",
      "Data columns (total 5 columns):\n",
      " #   Column                Non-Null Count   Dtype  \n",
      "---  ------                --------------   -----  \n",
      " 0   order_id              103886 non-null  object \n",
      " 1   payment_sequential    103886 non-null  int64  \n",
      " 2   payment_type          103886 non-null  object \n",
      " 3   payment_installments  103886 non-null  int64  \n",
      " 4   payment_value         103886 non-null  float64\n",
      "dtypes: float64(1), int64(2), object(2)\n",
      "memory usage: 4.0+ MB\n"
     ]
    }
   ],
   "source": [
    "order_payments.info()"
   ]
  },
  {
   "cell_type": "markdown",
   "id": "966185db",
   "metadata": {
    "papermill": {
     "duration": 0.065568,
     "end_time": "2021-10-10T15:44:14.175159",
     "exception": false,
     "start_time": "2021-10-10T15:44:14.109591",
     "status": "completed"
    },
    "tags": []
   },
   "source": [
    "### Avis clients"
   ]
  },
  {
   "cell_type": "code",
   "execution_count": 71,
   "id": "f3140ecc",
   "metadata": {
    "execution": {
     "iopub.execute_input": "2021-10-10T15:44:14.306323Z",
     "iopub.status.busy": "2021-10-10T15:44:14.305745Z",
     "iopub.status.idle": "2021-10-10T15:44:14.863217Z",
     "shell.execute_reply": "2021-10-10T15:44:14.863757Z",
     "shell.execute_reply.started": "2021-10-10T15:39:06.174672Z"
    },
    "papermill": {
     "duration": 0.624835,
     "end_time": "2021-10-10T15:44:14.863933",
     "exception": false,
     "start_time": "2021-10-10T15:44:14.239098",
     "status": "completed"
    },
    "tags": []
   },
   "outputs": [
    {
     "data": {
      "text/html": [
       "<div>\n",
       "<style scoped>\n",
       "    .dataframe tbody tr th:only-of-type {\n",
       "        vertical-align: middle;\n",
       "    }\n",
       "\n",
       "    .dataframe tbody tr th {\n",
       "        vertical-align: top;\n",
       "    }\n",
       "\n",
       "    .dataframe thead th {\n",
       "        text-align: right;\n",
       "    }\n",
       "</style>\n",
       "<table border=\"1\" class=\"dataframe\">\n",
       "  <thead>\n",
       "    <tr style=\"text-align: right;\">\n",
       "      <th></th>\n",
       "      <th>review_id</th>\n",
       "      <th>order_id</th>\n",
       "      <th>review_score</th>\n",
       "      <th>review_comment_title</th>\n",
       "      <th>review_comment_message</th>\n",
       "      <th>review_creation_date</th>\n",
       "      <th>review_answer_timestamp</th>\n",
       "    </tr>\n",
       "  </thead>\n",
       "  <tbody>\n",
       "    <tr>\n",
       "      <th>0</th>\n",
       "      <td>7bc2406110b926393aa56f80a40eba40</td>\n",
       "      <td>73fc7af87114b39712e6da79b0a377eb</td>\n",
       "      <td>4</td>\n",
       "      <td>NaN</td>\n",
       "      <td>NaN</td>\n",
       "      <td>2018-01-18 00:00:00</td>\n",
       "      <td>2018-01-18 21:46:59</td>\n",
       "    </tr>\n",
       "    <tr>\n",
       "      <th>1</th>\n",
       "      <td>80e641a11e56f04c1ad469d5645fdfde</td>\n",
       "      <td>a548910a1c6147796b98fdf73dbeba33</td>\n",
       "      <td>5</td>\n",
       "      <td>NaN</td>\n",
       "      <td>NaN</td>\n",
       "      <td>2018-03-10 00:00:00</td>\n",
       "      <td>2018-03-11 03:05:13</td>\n",
       "    </tr>\n",
       "    <tr>\n",
       "      <th>2</th>\n",
       "      <td>228ce5500dc1d8e020d8d1322874b6f0</td>\n",
       "      <td>f9e4b658b201a9f2ecdecbb34bed034b</td>\n",
       "      <td>5</td>\n",
       "      <td>NaN</td>\n",
       "      <td>NaN</td>\n",
       "      <td>2018-02-17 00:00:00</td>\n",
       "      <td>2018-02-18 14:36:24</td>\n",
       "    </tr>\n",
       "    <tr>\n",
       "      <th>3</th>\n",
       "      <td>e64fb393e7b32834bb789ff8bb30750e</td>\n",
       "      <td>658677c97b385a9be170737859d3511b</td>\n",
       "      <td>5</td>\n",
       "      <td>NaN</td>\n",
       "      <td>Recebi bem antes do prazo estipulado.</td>\n",
       "      <td>2017-04-21 00:00:00</td>\n",
       "      <td>2017-04-21 22:02:06</td>\n",
       "    </tr>\n",
       "    <tr>\n",
       "      <th>4</th>\n",
       "      <td>f7c4243c7fe1938f181bec41a392bdeb</td>\n",
       "      <td>8e6bfb81e283fa7e4f11123a3fb894f1</td>\n",
       "      <td>5</td>\n",
       "      <td>NaN</td>\n",
       "      <td>Parabéns lojas lannister adorei comprar pela I...</td>\n",
       "      <td>2018-03-01 00:00:00</td>\n",
       "      <td>2018-03-02 10:26:53</td>\n",
       "    </tr>\n",
       "  </tbody>\n",
       "</table>\n",
       "</div>"
      ],
      "text/plain": [
       "                          review_id                          order_id  \\\n",
       "0  7bc2406110b926393aa56f80a40eba40  73fc7af87114b39712e6da79b0a377eb   \n",
       "1  80e641a11e56f04c1ad469d5645fdfde  a548910a1c6147796b98fdf73dbeba33   \n",
       "2  228ce5500dc1d8e020d8d1322874b6f0  f9e4b658b201a9f2ecdecbb34bed034b   \n",
       "3  e64fb393e7b32834bb789ff8bb30750e  658677c97b385a9be170737859d3511b   \n",
       "4  f7c4243c7fe1938f181bec41a392bdeb  8e6bfb81e283fa7e4f11123a3fb894f1   \n",
       "\n",
       "   review_score review_comment_title  \\\n",
       "0             4                  NaN   \n",
       "1             5                  NaN   \n",
       "2             5                  NaN   \n",
       "3             5                  NaN   \n",
       "4             5                  NaN   \n",
       "\n",
       "                              review_comment_message review_creation_date  \\\n",
       "0                                                NaN  2018-01-18 00:00:00   \n",
       "1                                                NaN  2018-03-10 00:00:00   \n",
       "2                                                NaN  2018-02-17 00:00:00   \n",
       "3              Recebi bem antes do prazo estipulado.  2017-04-21 00:00:00   \n",
       "4  Parabéns lojas lannister adorei comprar pela I...  2018-03-01 00:00:00   \n",
       "\n",
       "  review_answer_timestamp  \n",
       "0     2018-01-18 21:46:59  \n",
       "1     2018-03-11 03:05:13  \n",
       "2     2018-02-18 14:36:24  \n",
       "3     2017-04-21 22:02:06  \n",
       "4     2018-03-02 10:26:53  "
      ]
     },
     "execution_count": 71,
     "metadata": {},
     "output_type": "execute_result"
    }
   ],
   "source": [
    "# olist_order_reviews_dataset\n",
    "reviews = pd.read_csv(root_path + \"olist_order_reviews_dataset.csv\")\n",
    "reviews.head(5)"
   ]
  },
  {
   "cell_type": "code",
   "execution_count": 72,
   "id": "917761ea",
   "metadata": {
    "execution": {
     "iopub.execute_input": "2021-10-10T15:44:14.997974Z",
     "iopub.status.busy": "2021-10-10T15:44:14.997370Z",
     "iopub.status.idle": "2021-10-10T15:44:15.037441Z",
     "shell.execute_reply": "2021-10-10T15:44:15.038176Z",
     "shell.execute_reply.started": "2021-10-10T15:39:06.707321Z"
    },
    "papermill": {
     "duration": 0.10949,
     "end_time": "2021-10-10T15:44:15.038437",
     "exception": false,
     "start_time": "2021-10-10T15:44:14.928947",
     "status": "completed"
    },
    "tags": []
   },
   "outputs": [
    {
     "name": "stdout",
     "output_type": "stream",
     "text": [
      "<class 'pandas.core.frame.DataFrame'>\n",
      "RangeIndex: 99224 entries, 0 to 99223\n",
      "Data columns (total 7 columns):\n",
      " #   Column                   Non-Null Count  Dtype \n",
      "---  ------                   --------------  ----- \n",
      " 0   review_id                99224 non-null  object\n",
      " 1   order_id                 99224 non-null  object\n",
      " 2   review_score             99224 non-null  int64 \n",
      " 3   review_comment_title     11568 non-null  object\n",
      " 4   review_comment_message   40977 non-null  object\n",
      " 5   review_creation_date     99224 non-null  object\n",
      " 6   review_answer_timestamp  99224 non-null  object\n",
      "dtypes: int64(1), object(6)\n",
      "memory usage: 5.3+ MB\n"
     ]
    }
   ],
   "source": [
    "reviews.info()"
   ]
  },
  {
   "cell_type": "markdown",
   "id": "02268231",
   "metadata": {
    "papermill": {
     "duration": 0.065213,
     "end_time": "2021-10-10T15:44:15.301828",
     "exception": false,
     "start_time": "2021-10-10T15:44:15.236615",
     "status": "completed"
    },
    "tags": []
   },
   "source": [
    "### Les produits"
   ]
  },
  {
   "cell_type": "code",
   "execution_count": 73,
   "id": "ef0bb423",
   "metadata": {
    "execution": {
     "iopub.execute_input": "2021-10-10T15:44:15.436954Z",
     "iopub.status.busy": "2021-10-10T15:44:15.436280Z",
     "iopub.status.idle": "2021-10-10T15:44:15.524584Z",
     "shell.execute_reply": "2021-10-10T15:44:15.525383Z",
     "shell.execute_reply.started": "2021-10-10T15:39:06.781219Z"
    },
    "papermill": {
     "duration": 0.158266,
     "end_time": "2021-10-10T15:44:15.525648",
     "exception": false,
     "start_time": "2021-10-10T15:44:15.367382",
     "status": "completed"
    },
    "tags": []
   },
   "outputs": [
    {
     "data": {
      "text/html": [
       "<div>\n",
       "<style scoped>\n",
       "    .dataframe tbody tr th:only-of-type {\n",
       "        vertical-align: middle;\n",
       "    }\n",
       "\n",
       "    .dataframe tbody tr th {\n",
       "        vertical-align: top;\n",
       "    }\n",
       "\n",
       "    .dataframe thead th {\n",
       "        text-align: right;\n",
       "    }\n",
       "</style>\n",
       "<table border=\"1\" class=\"dataframe\">\n",
       "  <thead>\n",
       "    <tr style=\"text-align: right;\">\n",
       "      <th></th>\n",
       "      <th>product_id</th>\n",
       "      <th>product_category_name</th>\n",
       "      <th>product_name_lenght</th>\n",
       "      <th>product_description_lenght</th>\n",
       "      <th>product_photos_qty</th>\n",
       "      <th>product_weight_g</th>\n",
       "      <th>product_length_cm</th>\n",
       "      <th>product_height_cm</th>\n",
       "      <th>product_width_cm</th>\n",
       "    </tr>\n",
       "  </thead>\n",
       "  <tbody>\n",
       "    <tr>\n",
       "      <th>0</th>\n",
       "      <td>1e9e8ef04dbcff4541ed26657ea517e5</td>\n",
       "      <td>perfumaria</td>\n",
       "      <td>40.0</td>\n",
       "      <td>287.0</td>\n",
       "      <td>1.0</td>\n",
       "      <td>225.0</td>\n",
       "      <td>16.0</td>\n",
       "      <td>10.0</td>\n",
       "      <td>14.0</td>\n",
       "    </tr>\n",
       "    <tr>\n",
       "      <th>1</th>\n",
       "      <td>3aa071139cb16b67ca9e5dea641aaa2f</td>\n",
       "      <td>artes</td>\n",
       "      <td>44.0</td>\n",
       "      <td>276.0</td>\n",
       "      <td>1.0</td>\n",
       "      <td>1000.0</td>\n",
       "      <td>30.0</td>\n",
       "      <td>18.0</td>\n",
       "      <td>20.0</td>\n",
       "    </tr>\n",
       "    <tr>\n",
       "      <th>2</th>\n",
       "      <td>96bd76ec8810374ed1b65e291975717f</td>\n",
       "      <td>esporte_lazer</td>\n",
       "      <td>46.0</td>\n",
       "      <td>250.0</td>\n",
       "      <td>1.0</td>\n",
       "      <td>154.0</td>\n",
       "      <td>18.0</td>\n",
       "      <td>9.0</td>\n",
       "      <td>15.0</td>\n",
       "    </tr>\n",
       "    <tr>\n",
       "      <th>3</th>\n",
       "      <td>cef67bcfe19066a932b7673e239eb23d</td>\n",
       "      <td>bebes</td>\n",
       "      <td>27.0</td>\n",
       "      <td>261.0</td>\n",
       "      <td>1.0</td>\n",
       "      <td>371.0</td>\n",
       "      <td>26.0</td>\n",
       "      <td>4.0</td>\n",
       "      <td>26.0</td>\n",
       "    </tr>\n",
       "    <tr>\n",
       "      <th>4</th>\n",
       "      <td>9dc1a7de274444849c219cff195d0b71</td>\n",
       "      <td>utilidades_domesticas</td>\n",
       "      <td>37.0</td>\n",
       "      <td>402.0</td>\n",
       "      <td>4.0</td>\n",
       "      <td>625.0</td>\n",
       "      <td>20.0</td>\n",
       "      <td>17.0</td>\n",
       "      <td>13.0</td>\n",
       "    </tr>\n",
       "  </tbody>\n",
       "</table>\n",
       "</div>"
      ],
      "text/plain": [
       "                         product_id  product_category_name  \\\n",
       "0  1e9e8ef04dbcff4541ed26657ea517e5             perfumaria   \n",
       "1  3aa071139cb16b67ca9e5dea641aaa2f                  artes   \n",
       "2  96bd76ec8810374ed1b65e291975717f          esporte_lazer   \n",
       "3  cef67bcfe19066a932b7673e239eb23d                  bebes   \n",
       "4  9dc1a7de274444849c219cff195d0b71  utilidades_domesticas   \n",
       "\n",
       "   product_name_lenght  product_description_lenght  product_photos_qty  \\\n",
       "0                 40.0                       287.0                 1.0   \n",
       "1                 44.0                       276.0                 1.0   \n",
       "2                 46.0                       250.0                 1.0   \n",
       "3                 27.0                       261.0                 1.0   \n",
       "4                 37.0                       402.0                 4.0   \n",
       "\n",
       "   product_weight_g  product_length_cm  product_height_cm  product_width_cm  \n",
       "0             225.0               16.0               10.0              14.0  \n",
       "1            1000.0               30.0               18.0              20.0  \n",
       "2             154.0               18.0                9.0              15.0  \n",
       "3             371.0               26.0                4.0              26.0  \n",
       "4             625.0               20.0               17.0              13.0  "
      ]
     },
     "execution_count": 73,
     "metadata": {},
     "output_type": "execute_result"
    }
   ],
   "source": [
    "# olist_products_dataset\n",
    "produits = pd.read_csv(root_path + \"olist_products_dataset.csv\")\n",
    "produits.head(5)"
   ]
  },
  {
   "cell_type": "code",
   "execution_count": 74,
   "id": "c85833f0",
   "metadata": {
    "execution": {
     "iopub.execute_input": "2021-10-10T15:44:15.662014Z",
     "iopub.status.busy": "2021-10-10T15:44:15.661117Z",
     "iopub.status.idle": "2021-10-10T15:44:15.677422Z",
     "shell.execute_reply": "2021-10-10T15:44:15.678104Z",
     "shell.execute_reply.started": "2021-10-10T15:39:06.877817Z"
    },
    "papermill": {
     "duration": 0.086538,
     "end_time": "2021-10-10T15:44:15.678373",
     "exception": false,
     "start_time": "2021-10-10T15:44:15.591835",
     "status": "completed"
    },
    "tags": []
   },
   "outputs": [
    {
     "name": "stdout",
     "output_type": "stream",
     "text": [
      "<class 'pandas.core.frame.DataFrame'>\n",
      "RangeIndex: 32951 entries, 0 to 32950\n",
      "Data columns (total 9 columns):\n",
      " #   Column                      Non-Null Count  Dtype  \n",
      "---  ------                      --------------  -----  \n",
      " 0   product_id                  32951 non-null  object \n",
      " 1   product_category_name       32341 non-null  object \n",
      " 2   product_name_lenght         32341 non-null  float64\n",
      " 3   product_description_lenght  32341 non-null  float64\n",
      " 4   product_photos_qty          32341 non-null  float64\n",
      " 5   product_weight_g            32949 non-null  float64\n",
      " 6   product_length_cm           32949 non-null  float64\n",
      " 7   product_height_cm           32949 non-null  float64\n",
      " 8   product_width_cm            32949 non-null  float64\n",
      "dtypes: float64(7), object(2)\n",
      "memory usage: 2.3+ MB\n"
     ]
    }
   ],
   "source": [
    "produits.info()"
   ]
  },
  {
   "cell_type": "markdown",
   "id": "a1904fb9",
   "metadata": {
    "papermill": {
     "duration": 0.065277,
     "end_time": "2021-10-10T15:44:15.946854",
     "exception": false,
     "start_time": "2021-10-10T15:44:15.881577",
     "status": "completed"
    },
    "tags": []
   },
   "source": [
    "### Les vendeurs"
   ]
  },
  {
   "cell_type": "code",
   "execution_count": 75,
   "id": "a039ce0c",
   "metadata": {
    "execution": {
     "iopub.execute_input": "2021-10-10T15:44:16.083180Z",
     "iopub.status.busy": "2021-10-10T15:44:16.082599Z",
     "iopub.status.idle": "2021-10-10T15:44:16.113283Z",
     "shell.execute_reply": "2021-10-10T15:44:16.112723Z",
     "shell.execute_reply.started": "2021-10-10T15:39:06.899131Z"
    },
    "papermill": {
     "duration": 0.100647,
     "end_time": "2021-10-10T15:44:16.113441",
     "exception": false,
     "start_time": "2021-10-10T15:44:16.012794",
     "status": "completed"
    },
    "tags": []
   },
   "outputs": [
    {
     "data": {
      "text/html": [
       "<div>\n",
       "<style scoped>\n",
       "    .dataframe tbody tr th:only-of-type {\n",
       "        vertical-align: middle;\n",
       "    }\n",
       "\n",
       "    .dataframe tbody tr th {\n",
       "        vertical-align: top;\n",
       "    }\n",
       "\n",
       "    .dataframe thead th {\n",
       "        text-align: right;\n",
       "    }\n",
       "</style>\n",
       "<table border=\"1\" class=\"dataframe\">\n",
       "  <thead>\n",
       "    <tr style=\"text-align: right;\">\n",
       "      <th></th>\n",
       "      <th>seller_id</th>\n",
       "      <th>seller_zip_code_prefix</th>\n",
       "      <th>seller_city</th>\n",
       "      <th>seller_state</th>\n",
       "    </tr>\n",
       "  </thead>\n",
       "  <tbody>\n",
       "    <tr>\n",
       "      <th>0</th>\n",
       "      <td>3442f8959a84dea7ee197c632cb2df15</td>\n",
       "      <td>13023</td>\n",
       "      <td>campinas</td>\n",
       "      <td>SP</td>\n",
       "    </tr>\n",
       "    <tr>\n",
       "      <th>1</th>\n",
       "      <td>d1b65fc7debc3361ea86b5f14c68d2e2</td>\n",
       "      <td>13844</td>\n",
       "      <td>mogi guacu</td>\n",
       "      <td>SP</td>\n",
       "    </tr>\n",
       "    <tr>\n",
       "      <th>2</th>\n",
       "      <td>ce3ad9de960102d0677a81f5d0bb7b2d</td>\n",
       "      <td>20031</td>\n",
       "      <td>rio de janeiro</td>\n",
       "      <td>RJ</td>\n",
       "    </tr>\n",
       "    <tr>\n",
       "      <th>3</th>\n",
       "      <td>c0f3eea2e14555b6faeea3dd58c1b1c3</td>\n",
       "      <td>4195</td>\n",
       "      <td>sao paulo</td>\n",
       "      <td>SP</td>\n",
       "    </tr>\n",
       "    <tr>\n",
       "      <th>4</th>\n",
       "      <td>51a04a8a6bdcb23deccc82b0b80742cf</td>\n",
       "      <td>12914</td>\n",
       "      <td>braganca paulista</td>\n",
       "      <td>SP</td>\n",
       "    </tr>\n",
       "  </tbody>\n",
       "</table>\n",
       "</div>"
      ],
      "text/plain": [
       "                          seller_id  seller_zip_code_prefix  \\\n",
       "0  3442f8959a84dea7ee197c632cb2df15                   13023   \n",
       "1  d1b65fc7debc3361ea86b5f14c68d2e2                   13844   \n",
       "2  ce3ad9de960102d0677a81f5d0bb7b2d                   20031   \n",
       "3  c0f3eea2e14555b6faeea3dd58c1b1c3                    4195   \n",
       "4  51a04a8a6bdcb23deccc82b0b80742cf                   12914   \n",
       "\n",
       "         seller_city seller_state  \n",
       "0           campinas           SP  \n",
       "1         mogi guacu           SP  \n",
       "2     rio de janeiro           RJ  \n",
       "3          sao paulo           SP  \n",
       "4  braganca paulista           SP  "
      ]
     },
     "execution_count": 75,
     "metadata": {},
     "output_type": "execute_result"
    }
   ],
   "source": [
    "# olist_sellers_dataset\n",
    "vendeurs =   pd.read_csv(root_path + \"olist_sellers_dataset.csv\")\n",
    "vendeurs.head(5)"
   ]
  },
  {
   "cell_type": "code",
   "execution_count": 76,
   "id": "0de17006",
   "metadata": {
    "execution": {
     "iopub.execute_input": "2021-10-10T15:44:16.258311Z",
     "iopub.status.busy": "2021-10-10T15:44:16.257717Z",
     "iopub.status.idle": "2021-10-10T15:44:16.260291Z",
     "shell.execute_reply": "2021-10-10T15:44:16.260948Z",
     "shell.execute_reply.started": "2021-10-10T15:39:06.923273Z"
    },
    "papermill": {
     "duration": 0.081535,
     "end_time": "2021-10-10T15:44:16.261171",
     "exception": false,
     "start_time": "2021-10-10T15:44:16.179636",
     "status": "completed"
    },
    "tags": []
   },
   "outputs": [
    {
     "name": "stdout",
     "output_type": "stream",
     "text": [
      "<class 'pandas.core.frame.DataFrame'>\n",
      "RangeIndex: 3095 entries, 0 to 3094\n",
      "Data columns (total 4 columns):\n",
      " #   Column                  Non-Null Count  Dtype \n",
      "---  ------                  --------------  ----- \n",
      " 0   seller_id               3095 non-null   object\n",
      " 1   seller_zip_code_prefix  3095 non-null   int64 \n",
      " 2   seller_city             3095 non-null   object\n",
      " 3   seller_state            3095 non-null   object\n",
      "dtypes: int64(1), object(3)\n",
      "memory usage: 96.8+ KB\n"
     ]
    }
   ],
   "source": [
    "vendeurs.info()"
   ]
  },
  {
   "cell_type": "markdown",
   "id": "c0256d17",
   "metadata": {
    "papermill": {
     "duration": 0.066218,
     "end_time": "2021-10-10T15:44:16.395007",
     "exception": false,
     "start_time": "2021-10-10T15:44:16.328789",
     "status": "completed"
    },
    "tags": []
   },
   "source": [
    "### Categories"
   ]
  },
  {
   "cell_type": "code",
   "execution_count": 77,
   "id": "b0e1ca2b",
   "metadata": {
    "execution": {
     "iopub.execute_input": "2021-10-10T15:44:16.533558Z",
     "iopub.status.busy": "2021-10-10T15:44:16.531954Z",
     "iopub.status.idle": "2021-10-10T15:44:16.547574Z",
     "shell.execute_reply": "2021-10-10T15:44:16.548108Z",
     "shell.execute_reply.started": "2021-10-10T15:39:06.938373Z"
    },
    "papermill": {
     "duration": 0.085989,
     "end_time": "2021-10-10T15:44:16.548283",
     "exception": false,
     "start_time": "2021-10-10T15:44:16.462294",
     "status": "completed"
    },
    "tags": []
   },
   "outputs": [
    {
     "data": {
      "text/html": [
       "<div>\n",
       "<style scoped>\n",
       "    .dataframe tbody tr th:only-of-type {\n",
       "        vertical-align: middle;\n",
       "    }\n",
       "\n",
       "    .dataframe tbody tr th {\n",
       "        vertical-align: top;\n",
       "    }\n",
       "\n",
       "    .dataframe thead th {\n",
       "        text-align: right;\n",
       "    }\n",
       "</style>\n",
       "<table border=\"1\" class=\"dataframe\">\n",
       "  <thead>\n",
       "    <tr style=\"text-align: right;\">\n",
       "      <th></th>\n",
       "      <th>product_category_name</th>\n",
       "      <th>product_category_name_english</th>\n",
       "    </tr>\n",
       "  </thead>\n",
       "  <tbody>\n",
       "    <tr>\n",
       "      <th>0</th>\n",
       "      <td>beleza_saude</td>\n",
       "      <td>health_beauty</td>\n",
       "    </tr>\n",
       "    <tr>\n",
       "      <th>1</th>\n",
       "      <td>informatica_acessorios</td>\n",
       "      <td>computers_accessories</td>\n",
       "    </tr>\n",
       "    <tr>\n",
       "      <th>2</th>\n",
       "      <td>automotivo</td>\n",
       "      <td>auto</td>\n",
       "    </tr>\n",
       "    <tr>\n",
       "      <th>3</th>\n",
       "      <td>cama_mesa_banho</td>\n",
       "      <td>bed_bath_table</td>\n",
       "    </tr>\n",
       "    <tr>\n",
       "      <th>4</th>\n",
       "      <td>moveis_decoracao</td>\n",
       "      <td>furniture_decor</td>\n",
       "    </tr>\n",
       "  </tbody>\n",
       "</table>\n",
       "</div>"
      ],
      "text/plain": [
       "    product_category_name product_category_name_english\n",
       "0            beleza_saude                 health_beauty\n",
       "1  informatica_acessorios         computers_accessories\n",
       "2              automotivo                          auto\n",
       "3         cama_mesa_banho                bed_bath_table\n",
       "4        moveis_decoracao               furniture_decor"
      ]
     },
     "execution_count": 77,
     "metadata": {},
     "output_type": "execute_result"
    }
   ],
   "source": [
    "# olist_product_category_name_translation_dataset\n",
    "categories = pd.read_csv(root_path + \"product_category_name_translation.csv\")\n",
    "categories.head(5)"
   ]
  },
  {
   "cell_type": "code",
   "execution_count": 78,
   "id": "051446f7",
   "metadata": {
    "execution": {
     "iopub.execute_input": "2021-10-10T15:44:16.685762Z",
     "iopub.status.busy": "2021-10-10T15:44:16.685128Z",
     "iopub.status.idle": "2021-10-10T15:44:16.694228Z",
     "shell.execute_reply": "2021-10-10T15:44:16.694760Z",
     "shell.execute_reply.started": "2021-10-10T15:39:06.958338Z"
    },
    "papermill": {
     "duration": 0.079866,
     "end_time": "2021-10-10T15:44:16.694931",
     "exception": false,
     "start_time": "2021-10-10T15:44:16.615065",
     "status": "completed"
    },
    "tags": []
   },
   "outputs": [
    {
     "name": "stdout",
     "output_type": "stream",
     "text": [
      "<class 'pandas.core.frame.DataFrame'>\n",
      "RangeIndex: 71 entries, 0 to 70\n",
      "Data columns (total 2 columns):\n",
      " #   Column                         Non-Null Count  Dtype \n",
      "---  ------                         --------------  ----- \n",
      " 0   product_category_name          71 non-null     object\n",
      " 1   product_category_name_english  71 non-null     object\n",
      "dtypes: object(2)\n",
      "memory usage: 1.2+ KB\n"
     ]
    }
   ],
   "source": [
    "categories.info()"
   ]
  },
  {
   "cell_type": "markdown",
   "id": "d5f961b2",
   "metadata": {
    "papermill": {
     "duration": 0.067065,
     "end_time": "2021-10-10T15:44:16.963431",
     "exception": false,
     "start_time": "2021-10-10T15:44:16.896366",
     "status": "completed"
    },
    "tags": []
   },
   "source": [
    "#  datasets mergés"
   ]
  },
  {
   "cell_type": "code",
   "execution_count": 79,
   "id": "64032fe5",
   "metadata": {
    "execution": {
     "iopub.execute_input": "2021-10-10T15:44:17.238074Z",
     "iopub.status.busy": "2021-10-10T15:44:17.237433Z",
     "iopub.status.idle": "2021-10-10T15:44:17.269055Z",
     "shell.execute_reply": "2021-10-10T15:44:17.268484Z",
     "shell.execute_reply.started": "2021-10-10T15:39:06.971630Z"
    },
    "papermill": {
     "duration": 0.101407,
     "end_time": "2021-10-10T15:44:17.269196",
     "exception": false,
     "start_time": "2021-10-10T15:44:17.167789",
     "status": "completed"
    },
    "tags": []
   },
   "outputs": [
    {
     "data": {
      "text/html": [
       "<div>\n",
       "<style scoped>\n",
       "    .dataframe tbody tr th:only-of-type {\n",
       "        vertical-align: middle;\n",
       "    }\n",
       "\n",
       "    .dataframe tbody tr th {\n",
       "        vertical-align: top;\n",
       "    }\n",
       "\n",
       "    .dataframe thead th {\n",
       "        text-align: right;\n",
       "    }\n",
       "</style>\n",
       "<table border=\"1\" class=\"dataframe\">\n",
       "  <thead>\n",
       "    <tr style=\"text-align: right;\">\n",
       "      <th></th>\n",
       "      <th>product_id</th>\n",
       "      <th>product_category_name</th>\n",
       "    </tr>\n",
       "  </thead>\n",
       "  <tbody>\n",
       "    <tr>\n",
       "      <th>0</th>\n",
       "      <td>1e9e8ef04dbcff4541ed26657ea517e5</td>\n",
       "      <td>perfumery</td>\n",
       "    </tr>\n",
       "    <tr>\n",
       "      <th>1</th>\n",
       "      <td>3aa071139cb16b67ca9e5dea641aaa2f</td>\n",
       "      <td>art</td>\n",
       "    </tr>\n",
       "    <tr>\n",
       "      <th>2</th>\n",
       "      <td>96bd76ec8810374ed1b65e291975717f</td>\n",
       "      <td>sports_leisure</td>\n",
       "    </tr>\n",
       "    <tr>\n",
       "      <th>3</th>\n",
       "      <td>cef67bcfe19066a932b7673e239eb23d</td>\n",
       "      <td>baby</td>\n",
       "    </tr>\n",
       "    <tr>\n",
       "      <th>4</th>\n",
       "      <td>9dc1a7de274444849c219cff195d0b71</td>\n",
       "      <td>housewares</td>\n",
       "    </tr>\n",
       "    <tr>\n",
       "      <th>5</th>\n",
       "      <td>41d3672d4792049fa1779bb35283ed13</td>\n",
       "      <td>musical_instruments</td>\n",
       "    </tr>\n",
       "  </tbody>\n",
       "</table>\n",
       "</div>"
      ],
      "text/plain": [
       "                         product_id product_category_name\n",
       "0  1e9e8ef04dbcff4541ed26657ea517e5             perfumery\n",
       "1  3aa071139cb16b67ca9e5dea641aaa2f                   art\n",
       "2  96bd76ec8810374ed1b65e291975717f        sports_leisure\n",
       "3  cef67bcfe19066a932b7673e239eb23d                  baby\n",
       "4  9dc1a7de274444849c219cff195d0b71            housewares\n",
       "5  41d3672d4792049fa1779bb35283ed13   musical_instruments"
      ]
     },
     "execution_count": 79,
     "metadata": {},
     "output_type": "execute_result"
    }
   ],
   "source": [
    "produits_ = pd.merge(produits, categories,\n",
    "                    how=\"left\",on=\"product_category_name\")\n",
    "\n",
    "produits_.drop([\"product_category_name\", \"product_weight_g\",\n",
    "                     \"product_length_cm\", \"product_height_cm\",\n",
    "                     \"product_width_cm\",\"product_photos_qty\",\"product_description_lenght\",\"product_name_lenght\"], axis=1, inplace=True)\n",
    "produits_ = produits_.rename(columns={\"product_category_name_english\":\n",
    "                                    \"product_category_name\"})\n",
    "produits_.head(6)"
   ]
  },
  {
   "cell_type": "code",
   "execution_count": 80,
   "id": "8096ac5c",
   "metadata": {},
   "outputs": [
    {
     "data": {
      "text/plain": [
       "Text(0.5, 1.0, 'Les catégories produits les plus représentées\\n')"
      ]
     },
     "execution_count": 80,
     "metadata": {},
     "output_type": "execute_result"
    },
    {
     "data": {
      "image/png": "[encoded data removed]",
      "text/plain": [
       "<Figure size 1080x1296 with 1 Axes>"
      ]
     },
     "metadata": {},
     "output_type": "display_data"
    }
   ],
   "source": [
    "df=produits_.groupby(\"product_category_name\").count()['product_id'].sort_values() # le nb de produit par cat\n",
    "sns.set(style=\"whitegrid\")\n",
    "plt.figure(figsize= (15,18) )\n",
    "ax= sns.barplot(y= df.index , x= df.values )\n",
    "plt.title(\"Les catégories produits les plus représentées\\n\")"
   ]
  },
  {
   "cell_type": "markdown",
   "id": "40f074b4",
   "metadata": {
    "papermill": {
     "duration": 0.071427,
     "end_time": "2021-10-10T15:44:20.674990",
     "exception": false,
     "start_time": "2021-10-10T15:44:20.603563",
     "status": "completed"
    },
    "tags": []
   },
   "source": [
    "### Commandes et clients"
   ]
  },
  {
   "cell_type": "code",
   "execution_count": 81,
   "id": "cbef5bf7",
   "metadata": {
    "execution": {
     "iopub.execute_input": "2021-10-10T15:44:20.819790Z",
     "iopub.status.busy": "2021-10-10T15:44:20.818833Z",
     "iopub.status.idle": "2021-10-10T15:44:21.115141Z",
     "shell.execute_reply": "2021-10-10T15:44:21.115676Z",
     "shell.execute_reply.started": "2021-10-10T15:39:10.176615Z"
    },
    "papermill": {
     "duration": 0.37068,
     "end_time": "2021-10-10T15:44:21.115874",
     "exception": false,
     "start_time": "2021-10-10T15:44:20.745194",
     "status": "completed"
    },
    "tags": []
   },
   "outputs": [
    {
     "data": {
      "text/html": [
       "<div>\n",
       "<style scoped>\n",
       "    .dataframe tbody tr th:only-of-type {\n",
       "        vertical-align: middle;\n",
       "    }\n",
       "\n",
       "    .dataframe tbody tr th {\n",
       "        vertical-align: top;\n",
       "    }\n",
       "\n",
       "    .dataframe thead th {\n",
       "        text-align: right;\n",
       "    }\n",
       "</style>\n",
       "<table border=\"1\" class=\"dataframe\">\n",
       "  <thead>\n",
       "    <tr style=\"text-align: right;\">\n",
       "      <th></th>\n",
       "      <th>order_id</th>\n",
       "      <th>order_item_id</th>\n",
       "      <th>product_id</th>\n",
       "      <th>price</th>\n",
       "      <th>freight_value</th>\n",
       "      <th>customer_id</th>\n",
       "      <th>order_status</th>\n",
       "      <th>order_purchase_timestamp</th>\n",
       "      <th>order_delivered_customer_date</th>\n",
       "    </tr>\n",
       "  </thead>\n",
       "  <tbody>\n",
       "    <tr>\n",
       "      <th>0</th>\n",
       "      <td>00010242fe8c5a6d1ba2dd792cb16214</td>\n",
       "      <td>1</td>\n",
       "      <td>4244733e06e7ecb4970a6e2683c13e61</td>\n",
       "      <td>58.90</td>\n",
       "      <td>13.29</td>\n",
       "      <td>3ce436f183e68e07877b285a838db11a</td>\n",
       "      <td>delivered</td>\n",
       "      <td>2017-09-13 08:59:02</td>\n",
       "      <td>2017-09-20 23:43:48</td>\n",
       "    </tr>\n",
       "    <tr>\n",
       "      <th>1</th>\n",
       "      <td>00018f77f2f0320c557190d7a144bdd3</td>\n",
       "      <td>1</td>\n",
       "      <td>e5f2d52b802189ee658865ca93d83a8f</td>\n",
       "      <td>239.90</td>\n",
       "      <td>19.93</td>\n",
       "      <td>f6dd3ec061db4e3987629fe6b26e5cce</td>\n",
       "      <td>delivered</td>\n",
       "      <td>2017-04-26 10:53:06</td>\n",
       "      <td>2017-05-12 16:04:24</td>\n",
       "    </tr>\n",
       "    <tr>\n",
       "      <th>2</th>\n",
       "      <td>000229ec398224ef6ca0657da4fc703e</td>\n",
       "      <td>1</td>\n",
       "      <td>c777355d18b72b67abbeef9df44fd0fd</td>\n",
       "      <td>199.00</td>\n",
       "      <td>17.87</td>\n",
       "      <td>6489ae5e4333f3693df5ad4372dab6d3</td>\n",
       "      <td>delivered</td>\n",
       "      <td>2018-01-14 14:33:31</td>\n",
       "      <td>2018-01-22 13:19:16</td>\n",
       "    </tr>\n",
       "    <tr>\n",
       "      <th>3</th>\n",
       "      <td>00024acbcdf0a6daa1e931b038114c75</td>\n",
       "      <td>1</td>\n",
       "      <td>7634da152a4610f1595efa32f14722fc</td>\n",
       "      <td>12.99</td>\n",
       "      <td>12.79</td>\n",
       "      <td>d4eb9395c8c0431ee92fce09860c5a06</td>\n",
       "      <td>delivered</td>\n",
       "      <td>2018-08-08 10:00:35</td>\n",
       "      <td>2018-08-14 13:32:39</td>\n",
       "    </tr>\n",
       "    <tr>\n",
       "      <th>4</th>\n",
       "      <td>00042b26cf59d7ce69dfabb4e55b4fd9</td>\n",
       "      <td>1</td>\n",
       "      <td>ac6c3623068f30de03045865e4e10089</td>\n",
       "      <td>199.90</td>\n",
       "      <td>18.14</td>\n",
       "      <td>58dbd0b2d70206bf40e62cd34e84d795</td>\n",
       "      <td>delivered</td>\n",
       "      <td>2017-02-04 13:57:51</td>\n",
       "      <td>2017-03-01 16:42:31</td>\n",
       "    </tr>\n",
       "  </tbody>\n",
       "</table>\n",
       "</div>"
      ],
      "text/plain": [
       "                           order_id  order_item_id  \\\n",
       "0  00010242fe8c5a6d1ba2dd792cb16214              1   \n",
       "1  00018f77f2f0320c557190d7a144bdd3              1   \n",
       "2  000229ec398224ef6ca0657da4fc703e              1   \n",
       "3  00024acbcdf0a6daa1e931b038114c75              1   \n",
       "4  00042b26cf59d7ce69dfabb4e55b4fd9              1   \n",
       "\n",
       "                         product_id   price  freight_value  \\\n",
       "0  4244733e06e7ecb4970a6e2683c13e61   58.90          13.29   \n",
       "1  e5f2d52b802189ee658865ca93d83a8f  239.90          19.93   \n",
       "2  c777355d18b72b67abbeef9df44fd0fd  199.00          17.87   \n",
       "3  7634da152a4610f1595efa32f14722fc   12.99          12.79   \n",
       "4  ac6c3623068f30de03045865e4e10089  199.90          18.14   \n",
       "\n",
       "                        customer_id order_status order_purchase_timestamp  \\\n",
       "0  3ce436f183e68e07877b285a838db11a    delivered      2017-09-13 08:59:02   \n",
       "1  f6dd3ec061db4e3987629fe6b26e5cce    delivered      2017-04-26 10:53:06   \n",
       "2  6489ae5e4333f3693df5ad4372dab6d3    delivered      2018-01-14 14:33:31   \n",
       "3  d4eb9395c8c0431ee92fce09860c5a06    delivered      2018-08-08 10:00:35   \n",
       "4  58dbd0b2d70206bf40e62cd34e84d795    delivered      2017-02-04 13:57:51   \n",
       "\n",
       "  order_delivered_customer_date  \n",
       "0           2017-09-20 23:43:48  \n",
       "1           2017-05-12 16:04:24  \n",
       "2           2018-01-22 13:19:16  \n",
       "3           2018-08-14 13:32:39  \n",
       "4           2017-03-01 16:42:31  "
      ]
     },
     "execution_count": 81,
     "metadata": {},
     "output_type": "execute_result"
    }
   ],
   "source": [
    "order_items_ = pd.merge(order_items, commandes,\n",
    "                       how=\"left\",\n",
    "                       on=\"order_id\")\n",
    "order_items_.drop([\"seller_id\", \"shipping_limit_date\",\n",
    "                     \"order_approved_at\",\n",
    "                     \"order_delivered_carrier_date\",\n",
    "                     \"order_estimated_delivery_date\"],\n",
    "                 axis=1,\n",
    "                 inplace=True)\n",
    "order_items_.head(5)"
   ]
  },
  {
   "cell_type": "code",
   "execution_count": 82,
   "id": "ef0f7d03",
   "metadata": {
    "execution": {
     "iopub.execute_input": "2021-10-10T15:44:21.405376Z",
     "iopub.status.busy": "2021-10-10T15:44:21.404422Z",
     "iopub.status.idle": "2021-10-10T15:44:21.447978Z",
     "shell.execute_reply": "2021-10-10T15:44:21.448438Z",
     "shell.execute_reply.started": "2021-10-10T15:39:10.440761Z"
    },
    "papermill": {
     "duration": 0.118804,
     "end_time": "2021-10-10T15:44:21.448624",
     "exception": false,
     "start_time": "2021-10-10T15:44:21.329820",
     "status": "completed"
    },
    "tags": []
   },
   "outputs": [
    {
     "data": {
      "text/plain": [
       "order_status\n",
       "approved            4\n",
       "canceled          704\n",
       "delivered      132036\n",
       "invoiced          435\n",
       "processing        455\n",
       "shipped          1294\n",
       "unavailable         8\n",
       "Name: order_item_id, dtype: int64"
      ]
     },
     "execution_count": 82,
     "metadata": {},
     "output_type": "execute_result"
    }
   ],
   "source": [
    "order_items_.groupby(by=\"order_status\").sum()[\"order_item_id\"]"
   ]
  },
  {
   "cell_type": "markdown",
   "id": "fa1b4244",
   "metadata": {
    "papermill": {
     "duration": 0.070626,
     "end_time": "2021-10-10T15:44:21.590983",
     "exception": false,
     "start_time": "2021-10-10T15:44:21.520357",
     "status": "completed"
    },
    "tags": []
   },
   "source": [
    "Nous conserverons les articles  \"delivered\"."
   ]
  },
  {
   "cell_type": "code",
   "execution_count": 83,
   "id": "237e9636",
   "metadata": {
    "execution": {
     "iopub.execute_input": "2021-10-10T15:44:21.746870Z",
     "iopub.status.busy": "2021-10-10T15:44:21.746175Z",
     "iopub.status.idle": "2021-10-10T15:44:21.768979Z",
     "shell.execute_reply": "2021-10-10T15:44:21.768335Z",
     "shell.execute_reply.started": "2021-10-10T15:39:10.482038Z"
    },
    "papermill": {
     "duration": 0.106926,
     "end_time": "2021-10-10T15:44:21.769134",
     "exception": false,
     "start_time": "2021-10-10T15:44:21.662208",
     "status": "completed"
    },
    "tags": []
   },
   "outputs": [],
   "source": [
    "order_items_ = order_items_[order_items_[\"order_status\"] == \"delivered\"]"
   ]
  },
  {
   "cell_type": "markdown",
   "id": "819295a9",
   "metadata": {
    "papermill": {
     "duration": 0.071207,
     "end_time": "2021-10-10T15:44:21.911867",
     "exception": false,
     "start_time": "2021-10-10T15:44:21.840660",
     "status": "completed"
    },
    "tags": []
   },
   "source": [
    "Nous pouvons également vérifier l'évolution du nombre de commandes passées par jour sur le site E-Commerce :"
   ]
  },
  {
   "cell_type": "code",
   "execution_count": 84,
   "id": "5087726d",
   "metadata": {
    "execution": {
     "iopub.execute_input": "2021-10-10T15:44:22.982945Z",
     "iopub.status.busy": "2021-10-10T15:44:22.981236Z",
     "iopub.status.idle": "2021-10-10T15:44:23.102210Z",
     "shell.execute_reply": "2021-10-10T15:44:23.101502Z",
     "shell.execute_reply.started": "2021-10-10T15:39:11.182365Z"
    },
    "papermill": {
     "duration": 0.233382,
     "end_time": "2021-10-10T15:44:23.102436",
     "exception": false,
     "start_time": "2021-10-10T15:44:22.869054",
     "status": "completed"
    },
    "tags": []
   },
   "outputs": [
    {
     "name": "stdout",
     "output_type": "stream",
     "text": [
      "<class 'pandas.core.frame.DataFrame'>\n",
      "Int64Index: 110197 entries, 0 to 112649\n",
      "Data columns (total 9 columns):\n",
      " #   Column                         Non-Null Count   Dtype         \n",
      "---  ------                         --------------   -----         \n",
      " 0   order_id                       110197 non-null  object        \n",
      " 1   order_item_id                  110197 non-null  int64         \n",
      " 2   product_id                     110197 non-null  object        \n",
      " 3   price                          110197 non-null  float64       \n",
      " 4   freight_value                  110197 non-null  float64       \n",
      " 5   customer_id                    110197 non-null  object        \n",
      " 6   order_status                   110197 non-null  object        \n",
      " 7   order_purchase_timestamp       110197 non-null  datetime64[ns]\n",
      " 8   order_delivered_customer_date  110189 non-null  datetime64[ns]\n",
      "dtypes: datetime64[ns](2), float64(2), int64(1), object(4)\n",
      "memory usage: 8.4+ MB\n"
     ]
    }
   ],
   "source": [
    "# Modify object cols in timestamp format\n",
    "datetime_cols = [\"order_purchase_timestamp\", \"order_delivered_customer_date\"]\n",
    "for col in datetime_cols:\n",
    "    order_items_[col] = order_items_[col].astype('datetime64[ns]')\n",
    "order_items_.info()"
   ]
  },
  {
   "cell_type": "markdown",
   "id": "54775d38",
   "metadata": {
    "papermill": {
     "duration": 0.07389,
     "end_time": "2021-10-10T15:44:23.252260",
     "exception": false,
     "start_time": "2021-10-10T15:44:23.178370",
     "status": "completed"
    },
    "tags": []
   },
   "source": [
    "nombre de commandes par mois, jour de la semaine ou heure de la journée :"
   ]
  },
  {
   "cell_type": "code",
   "execution_count": 85,
   "id": "b2687611",
   "metadata": {
    "execution": {
     "iopub.execute_input": "2021-10-10T15:44:23.407065Z",
     "iopub.status.busy": "2021-10-10T15:44:23.403973Z",
     "iopub.status.idle": "2021-10-10T15:44:23.845274Z",
     "shell.execute_reply": "2021-10-10T15:44:23.844687Z",
     "shell.execute_reply.started": "2021-10-10T15:39:11.360700Z"
    },
    "papermill": {
     "duration": 0.518819,
     "end_time": "2021-10-10T15:44:23.845429",
     "exception": false,
     "start_time": "2021-10-10T15:44:23.326610",
     "status": "completed"
    },
    "scrolled": false,
    "tags": []
   },
   "outputs": [
    {
     "data": {
      "text/plain": [
       "([<matplotlib.axis.XTick at 0x2168098b4f0>,\n",
       "  <matplotlib.axis.XTick at 0x2168098b4c0>,\n",
       "  <matplotlib.axis.XTick at 0x2168098f610>,\n",
       "  <matplotlib.axis.XTick at 0x216809c91f0>,\n",
       "  <matplotlib.axis.XTick at 0x216809c9700>,\n",
       "  <matplotlib.axis.XTick at 0x216809c9c10>,\n",
       "  <matplotlib.axis.XTick at 0x216809c98e0>,\n",
       "  <matplotlib.axis.XTick at 0x216809d1160>,\n",
       "  <matplotlib.axis.XTick at 0x21680986fd0>,\n",
       "  <matplotlib.axis.XTick at 0x216809d1be0>,\n",
       "  <matplotlib.axis.XTick at 0x216809d8130>,\n",
       "  <matplotlib.axis.XTick at 0x216809d8640>],\n",
       " [Text(0, 0, 'Jan'),\n",
       "  Text(1, 0, 'Feb'),\n",
       "  Text(2, 0, 'Mar'),\n",
       "  Text(3, 0, 'Apr'),\n",
       "  Text(4, 0, 'May'),\n",
       "  Text(5, 0, 'Jun'),\n",
       "  Text(6, 0, 'Jul'),\n",
       "  Text(7, 0, 'Aug'),\n",
       "  Text(8, 0, 'Sept'),\n",
       "  Text(9, 0, 'Oct'),\n",
       "  Text(10, 0, 'Nov'),\n",
       "  Text(11, 0, 'Dec')])"
      ]
     },
     "execution_count": 85,
     "metadata": {},
     "output_type": "execute_result"
    },
    {
     "data": {
      "image/png": "[encoded data removed]",
      "text/plain": [
       "<Figure size 864x576 with 1 Axes>"
      ]
     },
     "metadata": {},
     "output_type": "display_data"
    }
   ],
   "source": [
    "order_month=order_items_.groupby( order_items_['order_purchase_timestamp'].dt.month).count()['order_id']\n",
    "fig= plt.figure(figsize=(12,8))\n",
    "order_month.plot(kind='bar', title=\"Répartition des commandes par mois\",\n",
    "          ylabel=\"Nb orders\",\n",
    "          xlabel=\"Month\",\n",
    "          legend=False)\n",
    "plt.xticks(np.arange(0,12), ['Jan','Feb','Mar','Apr','May','Jun',\n",
    "                             'Jul','Aug','Sept','Oct','Nov','Dec'], rotation='horizontal')"
   ]
  },
  {
   "cell_type": "markdown",
   "id": "27320c0c",
   "metadata": {},
   "source": [
    "Les commandes sont passées le plus au mois Aout et Mai."
   ]
  },
  {
   "cell_type": "markdown",
   "id": "3aa2a8e7",
   "metadata": {
    "papermill": {
     "duration": 0.077093,
     "end_time": "2021-10-10T15:44:25.958451",
     "exception": false,
     "start_time": "2021-10-10T15:44:25.881358",
     "status": "completed"
    },
    "tags": []
   },
   "source": [
    "Crèons à partir de la table des payements Le nombre d'échéances."
   ]
  },
  {
   "cell_type": "code",
   "execution_count": 86,
   "id": "112bec7b",
   "metadata": {
    "execution": {
     "iopub.execute_input": "2021-10-10T15:44:26.127835Z",
     "iopub.status.busy": "2021-10-10T15:44:26.124668Z",
     "iopub.status.idle": "2021-10-10T15:44:26.527277Z",
     "shell.execute_reply": "2021-10-10T15:44:26.527737Z",
     "shell.execute_reply.started": "2021-10-10T15:39:12.876198Z"
    },
    "papermill": {
     "duration": 0.490653,
     "end_time": "2021-10-10T15:44:26.527927",
     "exception": false,
     "start_time": "2021-10-10T15:44:26.037274",
     "status": "completed"
    },
    "tags": []
   },
   "outputs": [
    {
     "data": {
      "text/html": [
       "<div>\n",
       "<style scoped>\n",
       "    .dataframe tbody tr th:only-of-type {\n",
       "        vertical-align: middle;\n",
       "    }\n",
       "\n",
       "    .dataframe tbody tr th {\n",
       "        vertical-align: top;\n",
       "    }\n",
       "\n",
       "    .dataframe thead th {\n",
       "        text-align: right;\n",
       "    }\n",
       "</style>\n",
       "<table border=\"1\" class=\"dataframe\">\n",
       "  <thead>\n",
       "    <tr style=\"text-align: right;\">\n",
       "      <th></th>\n",
       "      <th>order_id</th>\n",
       "      <th>order_item_id</th>\n",
       "      <th>product_id</th>\n",
       "      <th>price</th>\n",
       "      <th>freight_value</th>\n",
       "      <th>customer_id</th>\n",
       "      <th>order_status</th>\n",
       "      <th>order_purchase_timestamp</th>\n",
       "      <th>order_delivered_customer_date</th>\n",
       "      <th>sum_payment_installments</th>\n",
       "      <th>payment_type</th>\n",
       "    </tr>\n",
       "  </thead>\n",
       "  <tbody>\n",
       "    <tr>\n",
       "      <th>0</th>\n",
       "      <td>00010242fe8c5a6d1ba2dd792cb16214</td>\n",
       "      <td>1</td>\n",
       "      <td>4244733e06e7ecb4970a6e2683c13e61</td>\n",
       "      <td>58.90</td>\n",
       "      <td>13.29</td>\n",
       "      <td>3ce436f183e68e07877b285a838db11a</td>\n",
       "      <td>delivered</td>\n",
       "      <td>2017-09-13 08:59:02</td>\n",
       "      <td>2017-09-20 23:43:48</td>\n",
       "      <td>2.0</td>\n",
       "      <td>credit_card</td>\n",
       "    </tr>\n",
       "    <tr>\n",
       "      <th>1</th>\n",
       "      <td>00018f77f2f0320c557190d7a144bdd3</td>\n",
       "      <td>1</td>\n",
       "      <td>e5f2d52b802189ee658865ca93d83a8f</td>\n",
       "      <td>239.90</td>\n",
       "      <td>19.93</td>\n",
       "      <td>f6dd3ec061db4e3987629fe6b26e5cce</td>\n",
       "      <td>delivered</td>\n",
       "      <td>2017-04-26 10:53:06</td>\n",
       "      <td>2017-05-12 16:04:24</td>\n",
       "      <td>3.0</td>\n",
       "      <td>credit_card</td>\n",
       "    </tr>\n",
       "    <tr>\n",
       "      <th>2</th>\n",
       "      <td>000229ec398224ef6ca0657da4fc703e</td>\n",
       "      <td>1</td>\n",
       "      <td>c777355d18b72b67abbeef9df44fd0fd</td>\n",
       "      <td>199.00</td>\n",
       "      <td>17.87</td>\n",
       "      <td>6489ae5e4333f3693df5ad4372dab6d3</td>\n",
       "      <td>delivered</td>\n",
       "      <td>2018-01-14 14:33:31</td>\n",
       "      <td>2018-01-22 13:19:16</td>\n",
       "      <td>5.0</td>\n",
       "      <td>credit_card</td>\n",
       "    </tr>\n",
       "    <tr>\n",
       "      <th>3</th>\n",
       "      <td>00024acbcdf0a6daa1e931b038114c75</td>\n",
       "      <td>1</td>\n",
       "      <td>7634da152a4610f1595efa32f14722fc</td>\n",
       "      <td>12.99</td>\n",
       "      <td>12.79</td>\n",
       "      <td>d4eb9395c8c0431ee92fce09860c5a06</td>\n",
       "      <td>delivered</td>\n",
       "      <td>2018-08-08 10:00:35</td>\n",
       "      <td>2018-08-14 13:32:39</td>\n",
       "      <td>2.0</td>\n",
       "      <td>credit_card</td>\n",
       "    </tr>\n",
       "    <tr>\n",
       "      <th>4</th>\n",
       "      <td>00042b26cf59d7ce69dfabb4e55b4fd9</td>\n",
       "      <td>1</td>\n",
       "      <td>ac6c3623068f30de03045865e4e10089</td>\n",
       "      <td>199.90</td>\n",
       "      <td>18.14</td>\n",
       "      <td>58dbd0b2d70206bf40e62cd34e84d795</td>\n",
       "      <td>delivered</td>\n",
       "      <td>2017-02-04 13:57:51</td>\n",
       "      <td>2017-03-01 16:42:31</td>\n",
       "      <td>3.0</td>\n",
       "      <td>credit_card</td>\n",
       "    </tr>\n",
       "  </tbody>\n",
       "</table>\n",
       "</div>"
      ],
      "text/plain": [
       "                           order_id  order_item_id  \\\n",
       "0  00010242fe8c5a6d1ba2dd792cb16214              1   \n",
       "1  00018f77f2f0320c557190d7a144bdd3              1   \n",
       "2  000229ec398224ef6ca0657da4fc703e              1   \n",
       "3  00024acbcdf0a6daa1e931b038114c75              1   \n",
       "4  00042b26cf59d7ce69dfabb4e55b4fd9              1   \n",
       "\n",
       "                         product_id   price  freight_value  \\\n",
       "0  4244733e06e7ecb4970a6e2683c13e61   58.90          13.29   \n",
       "1  e5f2d52b802189ee658865ca93d83a8f  239.90          19.93   \n",
       "2  c777355d18b72b67abbeef9df44fd0fd  199.00          17.87   \n",
       "3  7634da152a4610f1595efa32f14722fc   12.99          12.79   \n",
       "4  ac6c3623068f30de03045865e4e10089  199.90          18.14   \n",
       "\n",
       "                        customer_id order_status order_purchase_timestamp  \\\n",
       "0  3ce436f183e68e07877b285a838db11a    delivered      2017-09-13 08:59:02   \n",
       "1  f6dd3ec061db4e3987629fe6b26e5cce    delivered      2017-04-26 10:53:06   \n",
       "2  6489ae5e4333f3693df5ad4372dab6d3    delivered      2018-01-14 14:33:31   \n",
       "3  d4eb9395c8c0431ee92fce09860c5a06    delivered      2018-08-08 10:00:35   \n",
       "4  58dbd0b2d70206bf40e62cd34e84d795    delivered      2017-02-04 13:57:51   \n",
       "\n",
       "  order_delivered_customer_date  sum_payment_installments payment_type  \n",
       "0           2017-09-20 23:43:48                       2.0  credit_card  \n",
       "1           2017-05-12 16:04:24                       3.0  credit_card  \n",
       "2           2018-01-22 13:19:16                       5.0  credit_card  \n",
       "3           2018-08-14 13:32:39                       2.0  credit_card  \n",
       "4           2017-03-01 16:42:31                       3.0  credit_card  "
      ]
     },
     "execution_count": 86,
     "metadata": {},
     "output_type": "execute_result"
    }
   ],
   "source": [
    "nv_payments = order_payments.groupby(by=\"order_id\").agg(\n",
    "    {\"payment_installments\": 'sum'})\n",
    "\n",
    "order_item_payement = pd.merge(order_items_, nv_payments,\n",
    "                       how=\"left\",\n",
    "                       on=\"order_id\")\n",
    "\n",
    "order_item_payement = order_item_payement.rename(columns={ \"payment_installments\": \"sum_payment_installments\"})\n",
    "order_item_payement = pd.merge(order_item_payement, order_payments[[\"order_id\",\"payment_type\"]],\n",
    "                       how=\"left\",\n",
    "                       on=\"order_id\")\n",
    "\n",
    "order_item_payement.head(5)"
   ]
  },
  {
   "cell_type": "code",
   "execution_count": 87,
   "id": "f0e1c141",
   "metadata": {
    "execution": {
     "iopub.execute_input": "2021-10-10T15:44:27.467776Z",
     "iopub.status.busy": "2021-10-10T15:44:27.467151Z",
     "iopub.status.idle": "2021-10-10T15:44:27.885181Z",
     "shell.execute_reply": "2021-10-10T15:44:27.884112Z",
     "shell.execute_reply.started": "2021-10-10T15:39:13.605170Z"
    },
    "papermill": {
     "duration": 0.505693,
     "end_time": "2021-10-10T15:44:27.885345",
     "exception": false,
     "start_time": "2021-10-10T15:44:27.379652",
     "status": "completed"
    },
    "tags": []
   },
   "outputs": [
    {
     "data": {
      "text/html": [
       "<div>\n",
       "<style scoped>\n",
       "    .dataframe tbody tr th:only-of-type {\n",
       "        vertical-align: middle;\n",
       "    }\n",
       "\n",
       "    .dataframe tbody tr th {\n",
       "        vertical-align: top;\n",
       "    }\n",
       "\n",
       "    .dataframe thead th {\n",
       "        text-align: right;\n",
       "    }\n",
       "</style>\n",
       "<table border=\"1\" class=\"dataframe\">\n",
       "  <thead>\n",
       "    <tr style=\"text-align: right;\">\n",
       "      <th></th>\n",
       "      <th>order_id</th>\n",
       "      <th>order_item_id</th>\n",
       "      <th>product_id</th>\n",
       "      <th>price</th>\n",
       "      <th>freight_value</th>\n",
       "      <th>customer_id</th>\n",
       "      <th>order_status</th>\n",
       "      <th>order_purchase_timestamp</th>\n",
       "      <th>order_delivered_customer_date</th>\n",
       "      <th>sum_payment_installments</th>\n",
       "      <th>payment_type</th>\n",
       "      <th>review_score</th>\n",
       "    </tr>\n",
       "  </thead>\n",
       "  <tbody>\n",
       "    <tr>\n",
       "      <th>0</th>\n",
       "      <td>00010242fe8c5a6d1ba2dd792cb16214</td>\n",
       "      <td>1</td>\n",
       "      <td>4244733e06e7ecb4970a6e2683c13e61</td>\n",
       "      <td>58.90</td>\n",
       "      <td>13.29</td>\n",
       "      <td>3ce436f183e68e07877b285a838db11a</td>\n",
       "      <td>delivered</td>\n",
       "      <td>2017-09-13 08:59:02</td>\n",
       "      <td>2017-09-20 23:43:48</td>\n",
       "      <td>2.0</td>\n",
       "      <td>credit_card</td>\n",
       "      <td>5.0</td>\n",
       "    </tr>\n",
       "    <tr>\n",
       "      <th>1</th>\n",
       "      <td>00018f77f2f0320c557190d7a144bdd3</td>\n",
       "      <td>1</td>\n",
       "      <td>e5f2d52b802189ee658865ca93d83a8f</td>\n",
       "      <td>239.90</td>\n",
       "      <td>19.93</td>\n",
       "      <td>f6dd3ec061db4e3987629fe6b26e5cce</td>\n",
       "      <td>delivered</td>\n",
       "      <td>2017-04-26 10:53:06</td>\n",
       "      <td>2017-05-12 16:04:24</td>\n",
       "      <td>3.0</td>\n",
       "      <td>credit_card</td>\n",
       "      <td>4.0</td>\n",
       "    </tr>\n",
       "    <tr>\n",
       "      <th>2</th>\n",
       "      <td>000229ec398224ef6ca0657da4fc703e</td>\n",
       "      <td>1</td>\n",
       "      <td>c777355d18b72b67abbeef9df44fd0fd</td>\n",
       "      <td>199.00</td>\n",
       "      <td>17.87</td>\n",
       "      <td>6489ae5e4333f3693df5ad4372dab6d3</td>\n",
       "      <td>delivered</td>\n",
       "      <td>2018-01-14 14:33:31</td>\n",
       "      <td>2018-01-22 13:19:16</td>\n",
       "      <td>5.0</td>\n",
       "      <td>credit_card</td>\n",
       "      <td>5.0</td>\n",
       "    </tr>\n",
       "    <tr>\n",
       "      <th>3</th>\n",
       "      <td>00024acbcdf0a6daa1e931b038114c75</td>\n",
       "      <td>1</td>\n",
       "      <td>7634da152a4610f1595efa32f14722fc</td>\n",
       "      <td>12.99</td>\n",
       "      <td>12.79</td>\n",
       "      <td>d4eb9395c8c0431ee92fce09860c5a06</td>\n",
       "      <td>delivered</td>\n",
       "      <td>2018-08-08 10:00:35</td>\n",
       "      <td>2018-08-14 13:32:39</td>\n",
       "      <td>2.0</td>\n",
       "      <td>credit_card</td>\n",
       "      <td>4.0</td>\n",
       "    </tr>\n",
       "    <tr>\n",
       "      <th>4</th>\n",
       "      <td>00042b26cf59d7ce69dfabb4e55b4fd9</td>\n",
       "      <td>1</td>\n",
       "      <td>ac6c3623068f30de03045865e4e10089</td>\n",
       "      <td>199.90</td>\n",
       "      <td>18.14</td>\n",
       "      <td>58dbd0b2d70206bf40e62cd34e84d795</td>\n",
       "      <td>delivered</td>\n",
       "      <td>2017-02-04 13:57:51</td>\n",
       "      <td>2017-03-01 16:42:31</td>\n",
       "      <td>3.0</td>\n",
       "      <td>credit_card</td>\n",
       "      <td>5.0</td>\n",
       "    </tr>\n",
       "  </tbody>\n",
       "</table>\n",
       "</div>"
      ],
      "text/plain": [
       "                           order_id  order_item_id  \\\n",
       "0  00010242fe8c5a6d1ba2dd792cb16214              1   \n",
       "1  00018f77f2f0320c557190d7a144bdd3              1   \n",
       "2  000229ec398224ef6ca0657da4fc703e              1   \n",
       "3  00024acbcdf0a6daa1e931b038114c75              1   \n",
       "4  00042b26cf59d7ce69dfabb4e55b4fd9              1   \n",
       "\n",
       "                         product_id   price  freight_value  \\\n",
       "0  4244733e06e7ecb4970a6e2683c13e61   58.90          13.29   \n",
       "1  e5f2d52b802189ee658865ca93d83a8f  239.90          19.93   \n",
       "2  c777355d18b72b67abbeef9df44fd0fd  199.00          17.87   \n",
       "3  7634da152a4610f1595efa32f14722fc   12.99          12.79   \n",
       "4  ac6c3623068f30de03045865e4e10089  199.90          18.14   \n",
       "\n",
       "                        customer_id order_status order_purchase_timestamp  \\\n",
       "0  3ce436f183e68e07877b285a838db11a    delivered      2017-09-13 08:59:02   \n",
       "1  f6dd3ec061db4e3987629fe6b26e5cce    delivered      2017-04-26 10:53:06   \n",
       "2  6489ae5e4333f3693df5ad4372dab6d3    delivered      2018-01-14 14:33:31   \n",
       "3  d4eb9395c8c0431ee92fce09860c5a06    delivered      2018-08-08 10:00:35   \n",
       "4  58dbd0b2d70206bf40e62cd34e84d795    delivered      2017-02-04 13:57:51   \n",
       "\n",
       "  order_delivered_customer_date  sum_payment_installments payment_type  \\\n",
       "0           2017-09-20 23:43:48                       2.0  credit_card   \n",
       "1           2017-05-12 16:04:24                       3.0  credit_card   \n",
       "2           2018-01-22 13:19:16                       5.0  credit_card   \n",
       "3           2018-08-14 13:32:39                       2.0  credit_card   \n",
       "4           2017-03-01 16:42:31                       3.0  credit_card   \n",
       "\n",
       "   review_score  \n",
       "0           5.0  \n",
       "1           4.0  \n",
       "2           5.0  \n",
       "3           4.0  \n",
       "4           5.0  "
      ]
     },
     "execution_count": 87,
     "metadata": {},
     "output_type": "execute_result"
    }
   ],
   "source": [
    "nv_reviews = reviews.groupby(\"order_id\").agg({\n",
    "    \"review_score\": \"mean\"})\n",
    "\n",
    "order_item_payement_ = pd.merge(order_item_payement, nv_reviews,\n",
    "                       how=\"left\",\n",
    "                       on=\"order_id\")\n",
    "\n",
    "order_item_payement_.head(5)"
   ]
  },
  {
   "cell_type": "code",
   "execution_count": 88,
   "id": "e9d1aca9",
   "metadata": {
    "execution": {
     "iopub.execute_input": "2021-10-10T15:44:28.378892Z",
     "iopub.status.busy": "2021-10-10T15:44:28.375611Z",
     "iopub.status.idle": "2021-10-10T15:44:28.654840Z",
     "shell.execute_reply": "2021-10-10T15:44:28.655262Z",
     "shell.execute_reply.started": "2021-10-10T15:39:14.043496Z"
    },
    "papermill": {
     "duration": 0.36145,
     "end_time": "2021-10-10T15:44:28.655480",
     "exception": false,
     "start_time": "2021-10-10T15:44:28.294030",
     "status": "completed"
    },
    "tags": []
   },
   "outputs": [
    {
     "data": {
      "image/png": "[encoded data removed]",
      "text/plain": [
       "<Figure size 864x576 with 1 Axes>"
      ]
     },
     "metadata": {},
     "output_type": "display_data"
    }
   ],
   "source": [
    "fig = plt.figure(figsize=(12, 8))\n",
    "sns.histplot(data=order_item_payement_, x=\"review_score\",  # sns.histplot\n",
    "             discrete=True)\n",
    "plt.title(\"Répartition des notes attribuées aux commandes\\n\")\n",
    "plt.show()"
   ]
  },
  {
   "cell_type": "code",
   "execution_count": 89,
   "id": "a74dfc96",
   "metadata": {
    "execution": {
     "iopub.execute_input": "2021-10-10T15:44:28.992641Z",
     "iopub.status.busy": "2021-10-10T15:44:28.991454Z",
     "iopub.status.idle": "2021-10-10T15:44:29.194090Z",
     "shell.execute_reply": "2021-10-10T15:44:29.194551Z",
     "shell.execute_reply.started": "2021-10-10T15:39:14.325230Z"
    },
    "papermill": {
     "duration": 0.292499,
     "end_time": "2021-10-10T15:44:29.194737",
     "exception": false,
     "start_time": "2021-10-10T15:44:28.902238",
     "status": "completed"
    },
    "tags": []
   },
   "outputs": [
    {
     "data": {
      "text/html": [
       "<div>\n",
       "<style scoped>\n",
       "    .dataframe tbody tr th:only-of-type {\n",
       "        vertical-align: middle;\n",
       "    }\n",
       "\n",
       "    .dataframe tbody tr th {\n",
       "        vertical-align: top;\n",
       "    }\n",
       "\n",
       "    .dataframe thead th {\n",
       "        text-align: right;\n",
       "    }\n",
       "</style>\n",
       "<table border=\"1\" class=\"dataframe\">\n",
       "  <thead>\n",
       "    <tr style=\"text-align: right;\">\n",
       "      <th></th>\n",
       "      <th>order_id</th>\n",
       "      <th>order_item_id</th>\n",
       "      <th>product_id</th>\n",
       "      <th>price</th>\n",
       "      <th>freight_value</th>\n",
       "      <th>customer_id</th>\n",
       "      <th>order_status</th>\n",
       "      <th>order_purchase_timestamp</th>\n",
       "      <th>order_delivered_customer_date</th>\n",
       "      <th>sum_payment_installments</th>\n",
       "      <th>payment_type</th>\n",
       "      <th>review_score</th>\n",
       "      <th>customer_unique_id</th>\n",
       "      <th>customer_zip_code_prefix</th>\n",
       "      <th>customer_city</th>\n",
       "      <th>customer_state</th>\n",
       "    </tr>\n",
       "  </thead>\n",
       "  <tbody>\n",
       "    <tr>\n",
       "      <th>0</th>\n",
       "      <td>00010242fe8c5a6d1ba2dd792cb16214</td>\n",
       "      <td>1</td>\n",
       "      <td>4244733e06e7ecb4970a6e2683c13e61</td>\n",
       "      <td>58.90</td>\n",
       "      <td>13.29</td>\n",
       "      <td>3ce436f183e68e07877b285a838db11a</td>\n",
       "      <td>delivered</td>\n",
       "      <td>2017-09-13 08:59:02</td>\n",
       "      <td>2017-09-20 23:43:48</td>\n",
       "      <td>2.0</td>\n",
       "      <td>credit_card</td>\n",
       "      <td>5.0</td>\n",
       "      <td>871766c5855e863f6eccc05f988b23cb</td>\n",
       "      <td>28013</td>\n",
       "      <td>campos dos goytacazes</td>\n",
       "      <td>RJ</td>\n",
       "    </tr>\n",
       "    <tr>\n",
       "      <th>1</th>\n",
       "      <td>00018f77f2f0320c557190d7a144bdd3</td>\n",
       "      <td>1</td>\n",
       "      <td>e5f2d52b802189ee658865ca93d83a8f</td>\n",
       "      <td>239.90</td>\n",
       "      <td>19.93</td>\n",
       "      <td>f6dd3ec061db4e3987629fe6b26e5cce</td>\n",
       "      <td>delivered</td>\n",
       "      <td>2017-04-26 10:53:06</td>\n",
       "      <td>2017-05-12 16:04:24</td>\n",
       "      <td>3.0</td>\n",
       "      <td>credit_card</td>\n",
       "      <td>4.0</td>\n",
       "      <td>eb28e67c4c0b83846050ddfb8a35d051</td>\n",
       "      <td>15775</td>\n",
       "      <td>santa fe do sul</td>\n",
       "      <td>SP</td>\n",
       "    </tr>\n",
       "    <tr>\n",
       "      <th>2</th>\n",
       "      <td>000229ec398224ef6ca0657da4fc703e</td>\n",
       "      <td>1</td>\n",
       "      <td>c777355d18b72b67abbeef9df44fd0fd</td>\n",
       "      <td>199.00</td>\n",
       "      <td>17.87</td>\n",
       "      <td>6489ae5e4333f3693df5ad4372dab6d3</td>\n",
       "      <td>delivered</td>\n",
       "      <td>2018-01-14 14:33:31</td>\n",
       "      <td>2018-01-22 13:19:16</td>\n",
       "      <td>5.0</td>\n",
       "      <td>credit_card</td>\n",
       "      <td>5.0</td>\n",
       "      <td>3818d81c6709e39d06b2738a8d3a2474</td>\n",
       "      <td>35661</td>\n",
       "      <td>para de minas</td>\n",
       "      <td>MG</td>\n",
       "    </tr>\n",
       "    <tr>\n",
       "      <th>3</th>\n",
       "      <td>00024acbcdf0a6daa1e931b038114c75</td>\n",
       "      <td>1</td>\n",
       "      <td>7634da152a4610f1595efa32f14722fc</td>\n",
       "      <td>12.99</td>\n",
       "      <td>12.79</td>\n",
       "      <td>d4eb9395c8c0431ee92fce09860c5a06</td>\n",
       "      <td>delivered</td>\n",
       "      <td>2018-08-08 10:00:35</td>\n",
       "      <td>2018-08-14 13:32:39</td>\n",
       "      <td>2.0</td>\n",
       "      <td>credit_card</td>\n",
       "      <td>4.0</td>\n",
       "      <td>af861d436cfc08b2c2ddefd0ba074622</td>\n",
       "      <td>12952</td>\n",
       "      <td>atibaia</td>\n",
       "      <td>SP</td>\n",
       "    </tr>\n",
       "    <tr>\n",
       "      <th>4</th>\n",
       "      <td>00042b26cf59d7ce69dfabb4e55b4fd9</td>\n",
       "      <td>1</td>\n",
       "      <td>ac6c3623068f30de03045865e4e10089</td>\n",
       "      <td>199.90</td>\n",
       "      <td>18.14</td>\n",
       "      <td>58dbd0b2d70206bf40e62cd34e84d795</td>\n",
       "      <td>delivered</td>\n",
       "      <td>2017-02-04 13:57:51</td>\n",
       "      <td>2017-03-01 16:42:31</td>\n",
       "      <td>3.0</td>\n",
       "      <td>credit_card</td>\n",
       "      <td>5.0</td>\n",
       "      <td>64b576fb70d441e8f1b2d7d446e483c5</td>\n",
       "      <td>13226</td>\n",
       "      <td>varzea paulista</td>\n",
       "      <td>SP</td>\n",
       "    </tr>\n",
       "  </tbody>\n",
       "</table>\n",
       "</div>"
      ],
      "text/plain": [
       "                           order_id  order_item_id  \\\n",
       "0  00010242fe8c5a6d1ba2dd792cb16214              1   \n",
       "1  00018f77f2f0320c557190d7a144bdd3              1   \n",
       "2  000229ec398224ef6ca0657da4fc703e              1   \n",
       "3  00024acbcdf0a6daa1e931b038114c75              1   \n",
       "4  00042b26cf59d7ce69dfabb4e55b4fd9              1   \n",
       "\n",
       "                         product_id   price  freight_value  \\\n",
       "0  4244733e06e7ecb4970a6e2683c13e61   58.90          13.29   \n",
       "1  e5f2d52b802189ee658865ca93d83a8f  239.90          19.93   \n",
       "2  c777355d18b72b67abbeef9df44fd0fd  199.00          17.87   \n",
       "3  7634da152a4610f1595efa32f14722fc   12.99          12.79   \n",
       "4  ac6c3623068f30de03045865e4e10089  199.90          18.14   \n",
       "\n",
       "                        customer_id order_status order_purchase_timestamp  \\\n",
       "0  3ce436f183e68e07877b285a838db11a    delivered      2017-09-13 08:59:02   \n",
       "1  f6dd3ec061db4e3987629fe6b26e5cce    delivered      2017-04-26 10:53:06   \n",
       "2  6489ae5e4333f3693df5ad4372dab6d3    delivered      2018-01-14 14:33:31   \n",
       "3  d4eb9395c8c0431ee92fce09860c5a06    delivered      2018-08-08 10:00:35   \n",
       "4  58dbd0b2d70206bf40e62cd34e84d795    delivered      2017-02-04 13:57:51   \n",
       "\n",
       "  order_delivered_customer_date  sum_payment_installments payment_type  \\\n",
       "0           2017-09-20 23:43:48                       2.0  credit_card   \n",
       "1           2017-05-12 16:04:24                       3.0  credit_card   \n",
       "2           2018-01-22 13:19:16                       5.0  credit_card   \n",
       "3           2018-08-14 13:32:39                       2.0  credit_card   \n",
       "4           2017-03-01 16:42:31                       3.0  credit_card   \n",
       "\n",
       "   review_score                customer_unique_id  customer_zip_code_prefix  \\\n",
       "0           5.0  871766c5855e863f6eccc05f988b23cb                     28013   \n",
       "1           4.0  eb28e67c4c0b83846050ddfb8a35d051                     15775   \n",
       "2           5.0  3818d81c6709e39d06b2738a8d3a2474                     35661   \n",
       "3           4.0  af861d436cfc08b2c2ddefd0ba074622                     12952   \n",
       "4           5.0  64b576fb70d441e8f1b2d7d446e483c5                     13226   \n",
       "\n",
       "           customer_city customer_state  \n",
       "0  campos dos goytacazes             RJ  \n",
       "1        santa fe do sul             SP  \n",
       "2          para de minas             MG  \n",
       "3                atibaia             SP  \n",
       "4        varzea paulista             SP  "
      ]
     },
     "execution_count": 89,
     "metadata": {},
     "output_type": "execute_result"
    }
   ],
   "source": [
    "order_items_pay_cust = pd.merge(order_item_payement_, clients, how=\"left\", on=\"customer_id\")\n",
    "order_items_pay_cust.head(5)"
   ]
  },
  {
   "cell_type": "code",
   "execution_count": 90,
   "id": "178ab90d",
   "metadata": {
    "execution": {
     "iopub.execute_input": "2021-10-10T15:44:29.524368Z",
     "iopub.status.busy": "2021-10-10T15:44:29.523325Z",
     "iopub.status.idle": "2021-10-10T15:44:29.628864Z",
     "shell.execute_reply": "2021-10-10T15:44:29.629336Z",
     "shell.execute_reply.started": "2021-10-10T15:39:14.514022Z"
    },
    "papermill": {
     "duration": 0.193527,
     "end_time": "2021-10-10T15:44:29.629537",
     "exception": false,
     "start_time": "2021-10-10T15:44:29.436010",
     "status": "completed"
    },
    "tags": []
   },
   "outputs": [
    {
     "data": {
      "text/html": [
       "<div>\n",
       "<style scoped>\n",
       "    .dataframe tbody tr th:only-of-type {\n",
       "        vertical-align: middle;\n",
       "    }\n",
       "\n",
       "    .dataframe tbody tr th {\n",
       "        vertical-align: top;\n",
       "    }\n",
       "\n",
       "    .dataframe thead th {\n",
       "        text-align: right;\n",
       "    }\n",
       "</style>\n",
       "<table border=\"1\" class=\"dataframe\">\n",
       "  <thead>\n",
       "    <tr style=\"text-align: right;\">\n",
       "      <th></th>\n",
       "      <th>order_id</th>\n",
       "      <th>order_item_id</th>\n",
       "      <th>product_id</th>\n",
       "      <th>price</th>\n",
       "      <th>freight_value</th>\n",
       "      <th>customer_id</th>\n",
       "      <th>order_status</th>\n",
       "      <th>order_purchase_timestamp</th>\n",
       "      <th>order_delivered_customer_date</th>\n",
       "      <th>sum_payment_installments</th>\n",
       "      <th>payment_type</th>\n",
       "      <th>review_score</th>\n",
       "      <th>customer_unique_id</th>\n",
       "      <th>customer_zip_code_prefix</th>\n",
       "      <th>customer_city</th>\n",
       "      <th>customer_state</th>\n",
       "      <th>product_category_name</th>\n",
       "    </tr>\n",
       "  </thead>\n",
       "  <tbody>\n",
       "    <tr>\n",
       "      <th>0</th>\n",
       "      <td>00010242fe8c5a6d1ba2dd792cb16214</td>\n",
       "      <td>1</td>\n",
       "      <td>4244733e06e7ecb4970a6e2683c13e61</td>\n",
       "      <td>58.90</td>\n",
       "      <td>13.29</td>\n",
       "      <td>3ce436f183e68e07877b285a838db11a</td>\n",
       "      <td>delivered</td>\n",
       "      <td>2017-09-13 08:59:02</td>\n",
       "      <td>2017-09-20 23:43:48</td>\n",
       "      <td>2.0</td>\n",
       "      <td>credit_card</td>\n",
       "      <td>5.0</td>\n",
       "      <td>871766c5855e863f6eccc05f988b23cb</td>\n",
       "      <td>28013</td>\n",
       "      <td>campos dos goytacazes</td>\n",
       "      <td>RJ</td>\n",
       "      <td>cool_stuff</td>\n",
       "    </tr>\n",
       "    <tr>\n",
       "      <th>1</th>\n",
       "      <td>00018f77f2f0320c557190d7a144bdd3</td>\n",
       "      <td>1</td>\n",
       "      <td>e5f2d52b802189ee658865ca93d83a8f</td>\n",
       "      <td>239.90</td>\n",
       "      <td>19.93</td>\n",
       "      <td>f6dd3ec061db4e3987629fe6b26e5cce</td>\n",
       "      <td>delivered</td>\n",
       "      <td>2017-04-26 10:53:06</td>\n",
       "      <td>2017-05-12 16:04:24</td>\n",
       "      <td>3.0</td>\n",
       "      <td>credit_card</td>\n",
       "      <td>4.0</td>\n",
       "      <td>eb28e67c4c0b83846050ddfb8a35d051</td>\n",
       "      <td>15775</td>\n",
       "      <td>santa fe do sul</td>\n",
       "      <td>SP</td>\n",
       "      <td>pet_shop</td>\n",
       "    </tr>\n",
       "    <tr>\n",
       "      <th>2</th>\n",
       "      <td>000229ec398224ef6ca0657da4fc703e</td>\n",
       "      <td>1</td>\n",
       "      <td>c777355d18b72b67abbeef9df44fd0fd</td>\n",
       "      <td>199.00</td>\n",
       "      <td>17.87</td>\n",
       "      <td>6489ae5e4333f3693df5ad4372dab6d3</td>\n",
       "      <td>delivered</td>\n",
       "      <td>2018-01-14 14:33:31</td>\n",
       "      <td>2018-01-22 13:19:16</td>\n",
       "      <td>5.0</td>\n",
       "      <td>credit_card</td>\n",
       "      <td>5.0</td>\n",
       "      <td>3818d81c6709e39d06b2738a8d3a2474</td>\n",
       "      <td>35661</td>\n",
       "      <td>para de minas</td>\n",
       "      <td>MG</td>\n",
       "      <td>furniture_decor</td>\n",
       "    </tr>\n",
       "    <tr>\n",
       "      <th>3</th>\n",
       "      <td>00024acbcdf0a6daa1e931b038114c75</td>\n",
       "      <td>1</td>\n",
       "      <td>7634da152a4610f1595efa32f14722fc</td>\n",
       "      <td>12.99</td>\n",
       "      <td>12.79</td>\n",
       "      <td>d4eb9395c8c0431ee92fce09860c5a06</td>\n",
       "      <td>delivered</td>\n",
       "      <td>2018-08-08 10:00:35</td>\n",
       "      <td>2018-08-14 13:32:39</td>\n",
       "      <td>2.0</td>\n",
       "      <td>credit_card</td>\n",
       "      <td>4.0</td>\n",
       "      <td>af861d436cfc08b2c2ddefd0ba074622</td>\n",
       "      <td>12952</td>\n",
       "      <td>atibaia</td>\n",
       "      <td>SP</td>\n",
       "      <td>perfumery</td>\n",
       "    </tr>\n",
       "    <tr>\n",
       "      <th>4</th>\n",
       "      <td>00042b26cf59d7ce69dfabb4e55b4fd9</td>\n",
       "      <td>1</td>\n",
       "      <td>ac6c3623068f30de03045865e4e10089</td>\n",
       "      <td>199.90</td>\n",
       "      <td>18.14</td>\n",
       "      <td>58dbd0b2d70206bf40e62cd34e84d795</td>\n",
       "      <td>delivered</td>\n",
       "      <td>2017-02-04 13:57:51</td>\n",
       "      <td>2017-03-01 16:42:31</td>\n",
       "      <td>3.0</td>\n",
       "      <td>credit_card</td>\n",
       "      <td>5.0</td>\n",
       "      <td>64b576fb70d441e8f1b2d7d446e483c5</td>\n",
       "      <td>13226</td>\n",
       "      <td>varzea paulista</td>\n",
       "      <td>SP</td>\n",
       "      <td>garden_tools</td>\n",
       "    </tr>\n",
       "  </tbody>\n",
       "</table>\n",
       "</div>"
      ],
      "text/plain": [
       "                           order_id  order_item_id  \\\n",
       "0  00010242fe8c5a6d1ba2dd792cb16214              1   \n",
       "1  00018f77f2f0320c557190d7a144bdd3              1   \n",
       "2  000229ec398224ef6ca0657da4fc703e              1   \n",
       "3  00024acbcdf0a6daa1e931b038114c75              1   \n",
       "4  00042b26cf59d7ce69dfabb4e55b4fd9              1   \n",
       "\n",
       "                         product_id   price  freight_value  \\\n",
       "0  4244733e06e7ecb4970a6e2683c13e61   58.90          13.29   \n",
       "1  e5f2d52b802189ee658865ca93d83a8f  239.90          19.93   \n",
       "2  c777355d18b72b67abbeef9df44fd0fd  199.00          17.87   \n",
       "3  7634da152a4610f1595efa32f14722fc   12.99          12.79   \n",
       "4  ac6c3623068f30de03045865e4e10089  199.90          18.14   \n",
       "\n",
       "                        customer_id order_status order_purchase_timestamp  \\\n",
       "0  3ce436f183e68e07877b285a838db11a    delivered      2017-09-13 08:59:02   \n",
       "1  f6dd3ec061db4e3987629fe6b26e5cce    delivered      2017-04-26 10:53:06   \n",
       "2  6489ae5e4333f3693df5ad4372dab6d3    delivered      2018-01-14 14:33:31   \n",
       "3  d4eb9395c8c0431ee92fce09860c5a06    delivered      2018-08-08 10:00:35   \n",
       "4  58dbd0b2d70206bf40e62cd34e84d795    delivered      2017-02-04 13:57:51   \n",
       "\n",
       "  order_delivered_customer_date  sum_payment_installments payment_type  \\\n",
       "0           2017-09-20 23:43:48                       2.0  credit_card   \n",
       "1           2017-05-12 16:04:24                       3.0  credit_card   \n",
       "2           2018-01-22 13:19:16                       5.0  credit_card   \n",
       "3           2018-08-14 13:32:39                       2.0  credit_card   \n",
       "4           2017-03-01 16:42:31                       3.0  credit_card   \n",
       "\n",
       "   review_score                customer_unique_id  customer_zip_code_prefix  \\\n",
       "0           5.0  871766c5855e863f6eccc05f988b23cb                     28013   \n",
       "1           4.0  eb28e67c4c0b83846050ddfb8a35d051                     15775   \n",
       "2           5.0  3818d81c6709e39d06b2738a8d3a2474                     35661   \n",
       "3           4.0  af861d436cfc08b2c2ddefd0ba074622                     12952   \n",
       "4           5.0  64b576fb70d441e8f1b2d7d446e483c5                     13226   \n",
       "\n",
       "           customer_city customer_state product_category_name  \n",
       "0  campos dos goytacazes             RJ            cool_stuff  \n",
       "1        santa fe do sul             SP              pet_shop  \n",
       "2          para de minas             MG       furniture_decor  \n",
       "3                atibaia             SP             perfumery  \n",
       "4        varzea paulista             SP          garden_tools  "
      ]
     },
     "execution_count": 90,
     "metadata": {},
     "output_type": "execute_result"
    }
   ],
   "source": [
    "data = pd.merge(order_items_pay_cust, produits_,\n",
    "               how=\"left\",\n",
    "               on=\"product_id\")\n",
    "data.head(5)"
   ]
  },
  {
   "cell_type": "code",
   "execution_count": 91,
   "id": "95e93056",
   "metadata": {
    "execution": {
     "iopub.execute_input": "2021-10-10T15:44:29.829570Z",
     "iopub.status.busy": "2021-10-10T15:44:29.828556Z",
     "iopub.status.idle": "2021-10-10T15:44:29.913663Z",
     "shell.execute_reply": "2021-10-10T15:44:29.913058Z",
     "shell.execute_reply.started": "2021-10-10T15:39:14.618200Z"
    },
    "papermill": {
     "duration": 0.193932,
     "end_time": "2021-10-10T15:44:29.913808",
     "exception": false,
     "start_time": "2021-10-10T15:44:29.719876",
     "status": "completed"
    },
    "tags": []
   },
   "outputs": [
    {
     "name": "stdout",
     "output_type": "stream",
     "text": [
      "<class 'pandas.core.frame.DataFrame'>\n",
      "Int64Index: 115038 entries, 0 to 115037\n",
      "Data columns (total 17 columns):\n",
      " #   Column                         Non-Null Count   Dtype         \n",
      "---  ------                         --------------   -----         \n",
      " 0   order_id                       115038 non-null  object        \n",
      " 1   order_item_id                  115038 non-null  int64         \n",
      " 2   product_id                     115038 non-null  object        \n",
      " 3   price                          115038 non-null  float64       \n",
      " 4   freight_value                  115038 non-null  float64       \n",
      " 5   customer_id                    115038 non-null  object        \n",
      " 6   order_status                   115038 non-null  object        \n",
      " 7   order_purchase_timestamp       115038 non-null  datetime64[ns]\n",
      " 8   order_delivered_customer_date  115030 non-null  datetime64[ns]\n",
      " 9   sum_payment_installments       115035 non-null  float64       \n",
      " 10  payment_type                   115035 non-null  object        \n",
      " 11  review_score                   114177 non-null  float64       \n",
      " 12  customer_unique_id             115038 non-null  object        \n",
      " 13  customer_zip_code_prefix       115038 non-null  int64         \n",
      " 14  customer_city                  115038 non-null  object        \n",
      " 15  customer_state                 115038 non-null  object        \n",
      " 16  product_category_name          113387 non-null  object        \n",
      "dtypes: datetime64[ns](2), float64(4), int64(2), object(9)\n",
      "memory usage: 15.8+ MB\n"
     ]
    }
   ],
   "source": [
    "data.info()"
   ]
  },
  {
   "cell_type": "markdown",
   "id": "26178d2e",
   "metadata": {
    "papermill": {
     "duration": 0.081918,
     "end_time": "2021-10-10T15:44:30.077953",
     "exception": false,
     "start_time": "2021-10-10T15:44:29.996035",
     "status": "completed"
    },
    "tags": []
   },
   "source": [
    "# Feature engineering orienté Client\n",
    "\n",
    "délai le livraison de chaque commande :"
   ]
  },
  {
   "cell_type": "code",
   "execution_count": 92,
   "id": "ae5681cb",
   "metadata": {
    "execution": {
     "iopub.execute_input": "2021-10-10T15:44:30.247179Z",
     "iopub.status.busy": "2021-10-10T15:44:30.246569Z",
     "iopub.status.idle": "2021-10-10T15:44:30.340509Z",
     "shell.execute_reply": "2021-10-10T15:44:30.339946Z",
     "shell.execute_reply.started": "2021-10-10T15:39:14.743222Z"
    },
    "papermill": {
     "duration": 0.180645,
     "end_time": "2021-10-10T15:44:30.340649",
     "exception": false,
     "start_time": "2021-10-10T15:44:30.160004",
     "status": "completed"
    },
    "tags": []
   },
   "outputs": [],
   "source": [
    "data[\"delai_livraison\"] = (data.order_delivered_customer_date\n",
    "                               - data.order_purchase_timestamp).dt.round('1d').dt.days\n",
    "data.drop(\"order_delivered_customer_date\", axis=1, inplace=True)"
   ]
  },
  {
   "cell_type": "code",
   "execution_count": 93,
   "id": "377bef02",
   "metadata": {
    "execution": {
     "iopub.execute_input": "2021-10-10T15:44:30.512758Z",
     "iopub.status.busy": "2021-10-10T15:44:30.511648Z",
     "iopub.status.idle": "2021-10-10T15:44:31.802564Z",
     "shell.execute_reply": "2021-10-10T15:44:31.801969Z",
     "shell.execute_reply.started": "2021-10-10T15:39:14.829610Z"
    },
    "papermill": {
     "duration": 1.379816,
     "end_time": "2021-10-10T15:44:31.802709",
     "exception": false,
     "start_time": "2021-10-10T15:44:30.422893",
     "status": "completed"
    },
    "scrolled": false,
    "tags": []
   },
   "outputs": [
    {
     "name": "stderr",
     "output_type": "stream",
     "text": [
      "C:\\Users\\maido\\anaconda3\\lib\\site-packages\\seaborn\\distributions.py:2557: FutureWarning: `distplot` is a deprecated function and will be removed in a future version. Please adapt your code to use either `displot` (a figure-level function with similar flexibility) or `histplot` (an axes-level function for histograms).\n",
      "  warnings.warn(msg, FutureWarning)\n"
     ]
    },
    {
     "data": {
      "image/png": "[encoded data removed]",
      "text/plain": [
       "<Figure size 864x576 with 1 Axes>"
      ]
     },
     "metadata": {},
     "output_type": "display_data"
    }
   ],
   "source": [
    "fig = plt.figure(figsize=(12, 8))\n",
    "sns.distplot( data[\"delai_livraison\"] )\n",
    "plt.title(\"Répartition des délais de livraison moyens\\n\",\n",
    "          )\n",
    "plt.show()"
   ]
  },
  {
   "cell_type": "code",
   "execution_count": 94,
   "id": "2102aaf0",
   "metadata": {
    "execution": {
     "iopub.execute_input": "2021-10-10T15:44:33.188732Z",
     "iopub.status.busy": "2021-10-10T15:44:33.184508Z",
     "iopub.status.idle": "2021-10-10T15:44:33.596624Z",
     "shell.execute_reply": "2021-10-10T15:44:33.596043Z",
     "shell.execute_reply.started": "2021-10-10T15:39:17.445837Z"
    },
    "papermill": {
     "duration": 0.509767,
     "end_time": "2021-10-10T15:44:33.596763",
     "exception": false,
     "start_time": "2021-10-10T15:44:33.086996",
     "status": "completed"
    },
    "scrolled": true,
    "tags": []
   },
   "outputs": [
    {
     "data": {
      "text/plain": [
       "product_category_name\n",
       "agro_industry_and_commerce     177\n",
       "air_conditioning               246\n",
       "art                            195\n",
       "arts_and_craftmanship           23\n",
       "audio                          348\n",
       "                              ... \n",
       "stationery                    2264\n",
       "tablets_printing_image          79\n",
       "telephony                     4093\n",
       "toys                          3804\n",
       "watches_gifts                 5495\n",
       "Name: order_id, Length: 71, dtype: int64"
      ]
     },
     "execution_count": 94,
     "metadata": {},
     "output_type": "execute_result"
    }
   ],
   "source": [
    "data.groupby(\"product_category_name\").nunique()[\"order_id\"]"
   ]
  },
  {
   "cell_type": "markdown",
   "id": "53360601",
   "metadata": {
    "papermill": {
     "duration": 0.083589,
     "end_time": "2021-10-10T15:44:33.764289",
     "exception": false,
     "start_time": "2021-10-10T15:44:33.680700",
     "status": "completed"
    },
    "tags": []
   },
   "source": [
    "nombre de commandes moyen par client :"
   ]
  },
  {
   "cell_type": "code",
   "execution_count": 95,
   "id": "91608762",
   "metadata": {
    "execution": {
     "iopub.execute_input": "2021-10-10T15:44:33.947358Z",
     "iopub.status.busy": "2021-10-10T15:44:33.935184Z",
     "iopub.status.idle": "2021-10-10T15:44:34.551522Z",
     "shell.execute_reply": "2021-10-10T15:44:34.550924Z",
     "shell.execute_reply.started": "2021-10-10T15:39:17.946963Z"
    },
    "papermill": {
     "duration": 0.703412,
     "end_time": "2021-10-10T15:44:34.551674",
     "exception": false,
     "start_time": "2021-10-10T15:44:33.848262",
     "status": "completed"
    },
    "scrolled": false,
    "tags": []
   },
   "outputs": [
    {
     "data": {
      "image/png": "[encoded data removed]",
      "text/plain": [
       "<Figure size 864x576 with 1 Axes>"
      ]
     },
     "metadata": {},
     "output_type": "display_data"
    }
   ],
   "source": [
    "order_per_customer= data.groupby(\"customer_unique_id\").nunique()[\"order_id\"]\n",
    "# ou data.groupby(\"customer_unique_id\").agg({\"order_id\": \"nunique\"})[\"order_id\"].unique() \n",
    "# compter hors les doublons sur les orders pour un seul client ( plusieurs articles dans le meme order)\n",
    "fig = plt.figure(figsize=(12, 8))\n",
    "sns.barplot(x=order_per_customer.unique() , y= order_per_customer.value_counts()) \n",
    "plt.xlabel(\"Number of orders\")\n",
    "plt.ylabel(\"Nb Clients\")\n",
    "plt.title(\"Nombre de commandes par client\\n\")\n",
    "plt.show()"
   ]
  },
  {
   "cell_type": "markdown",
   "id": "eabaaabb",
   "metadata": {
    "papermill": {
     "duration": 0.084768,
     "end_time": "2021-10-10T15:44:34.722416",
     "exception": false,
     "start_time": "2021-10-10T15:44:34.637648",
     "status": "completed"
    },
    "tags": []
   },
   "source": [
    " La plupart des clients passe une seule commande donc clients  occasionnels. "
   ]
  },
  {
   "cell_type": "markdown",
   "id": "99c42cc2",
   "metadata": {
    "papermill": {
     "duration": 0.087142,
     "end_time": "2021-10-10T15:44:36.519236",
     "exception": false,
     "start_time": "2021-10-10T15:44:36.432094",
     "status": "completed"
    },
    "tags": []
   },
   "source": [
    "le nombre de jours écoulés entre la première et la dernière commande."
   ]
  },
  {
   "cell_type": "code",
   "execution_count": 96,
   "id": "df6fce43",
   "metadata": {},
   "outputs": [
    {
     "data": {
      "text/html": [
       "<div>\n",
       "<style scoped>\n",
       "    .dataframe tbody tr th:only-of-type {\n",
       "        vertical-align: middle;\n",
       "    }\n",
       "\n",
       "    .dataframe tbody tr th {\n",
       "        vertical-align: top;\n",
       "    }\n",
       "\n",
       "    .dataframe thead th {\n",
       "        text-align: right;\n",
       "    }\n",
       "</style>\n",
       "<table border=\"1\" class=\"dataframe\">\n",
       "  <thead>\n",
       "    <tr style=\"text-align: right;\">\n",
       "      <th></th>\n",
       "      <th>recency</th>\n",
       "    </tr>\n",
       "    <tr>\n",
       "      <th>customer_unique_id</th>\n",
       "      <th></th>\n",
       "    </tr>\n",
       "  </thead>\n",
       "  <tbody>\n",
       "    <tr>\n",
       "      <th>0000366f3b9a7992bf8c76cfdf3221e2</th>\n",
       "      <td>111</td>\n",
       "    </tr>\n",
       "    <tr>\n",
       "      <th>0000b849f77a49e4a4ce2b2a4ca5be3f</th>\n",
       "      <td>114</td>\n",
       "    </tr>\n",
       "    <tr>\n",
       "      <th>0000f46a3911fa3c0805444483337064</th>\n",
       "      <td>537</td>\n",
       "    </tr>\n",
       "    <tr>\n",
       "      <th>0000f6ccb0745a6a4b88665a16c9f078</th>\n",
       "      <td>321</td>\n",
       "    </tr>\n",
       "    <tr>\n",
       "      <th>0004aac84e0df4da2b147fca70cf8255</th>\n",
       "      <td>288</td>\n",
       "    </tr>\n",
       "  </tbody>\n",
       "</table>\n",
       "</div>"
      ],
      "text/plain": [
       "                                  recency\n",
       "customer_unique_id                       \n",
       "0000366f3b9a7992bf8c76cfdf3221e2      111\n",
       "0000b849f77a49e4a4ce2b2a4ca5be3f      114\n",
       "0000f46a3911fa3c0805444483337064      537\n",
       "0000f6ccb0745a6a4b88665a16c9f078      321\n",
       "0004aac84e0df4da2b147fca70cf8255      288"
      ]
     },
     "execution_count": 96,
     "metadata": {},
     "output_type": "execute_result"
    }
   ],
   "source": [
    "recency = data.groupby(\"customer_unique_id\")\\\n",
    "                .agg({\"order_purchase_timestamp\": [\"max\"]})\n",
    "recency.columns = recency.columns.droplevel(0)\n",
    "\n",
    "# Max date in dataset\n",
    "max_date = data[\"order_purchase_timestamp\"].max()\n",
    "# Delay from the last order\n",
    "recency[\"recency\"] = [ (max_date - y[0]).round('1d').days for x,y in recurencies.iterrows()]\n",
    "recency.drop( \"max\", axis=1, inplace=True)\n",
    "recency.head(5)"
   ]
  },
  {
   "cell_type": "markdown",
   "id": "0260c5bd",
   "metadata": {
    "papermill": {
     "duration": 0.086692,
     "end_time": "2021-10-10T15:44:56.185967",
     "exception": false,
     "start_time": "2021-10-10T15:44:56.099275",
     "status": "completed"
    },
    "tags": []
   },
   "source": [
    "# Création du dataset clients "
   ]
  },
  {
   "cell_type": "code",
   "execution_count": 97,
   "id": "ba67e081",
   "metadata": {
    "execution": {
     "iopub.execute_input": "2021-10-10T15:44:56.365716Z",
     "iopub.status.busy": "2021-10-10T15:44:56.365028Z",
     "iopub.status.idle": "2021-10-10T15:45:18.482328Z",
     "shell.execute_reply": "2021-10-10T15:45:18.481803Z",
     "shell.execute_reply.started": "2021-10-10T15:39:40.486574Z"
    },
    "papermill": {
     "duration": 22.208954,
     "end_time": "2021-10-10T15:45:18.482500",
     "exception": false,
     "start_time": "2021-10-10T15:44:56.273546",
     "status": "completed"
    },
    "tags": []
   },
   "outputs": [
    {
     "data": {
      "text/html": [
       "<div>\n",
       "<style scoped>\n",
       "    .dataframe tbody tr th:only-of-type {\n",
       "        vertical-align: middle;\n",
       "    }\n",
       "\n",
       "    .dataframe tbody tr th {\n",
       "        vertical-align: top;\n",
       "    }\n",
       "\n",
       "    .dataframe thead th {\n",
       "        text-align: right;\n",
       "    }\n",
       "</style>\n",
       "<table border=\"1\" class=\"dataframe\">\n",
       "  <thead>\n",
       "    <tr style=\"text-align: right;\">\n",
       "      <th></th>\n",
       "      <th>nb_orders</th>\n",
       "      <th>total_pay</th>\n",
       "      <th>total_pay_livraison</th>\n",
       "      <th>mean_payment_installments</th>\n",
       "      <th>mean_review_score</th>\n",
       "      <th>mean_delai_livraison</th>\n",
       "      <th>customer_unique_id</th>\n",
       "      <th>payment_type</th>\n",
       "      <th>customer_state</th>\n",
       "      <th>product_category_name</th>\n",
       "      <th>order_purchase_timestamp</th>\n",
       "      <th>recency</th>\n",
       "    </tr>\n",
       "  </thead>\n",
       "  <tbody>\n",
       "    <tr>\n",
       "      <th>0</th>\n",
       "      <td>1</td>\n",
       "      <td>129.90</td>\n",
       "      <td>12.00</td>\n",
       "      <td>8.0</td>\n",
       "      <td>5.0</td>\n",
       "      <td>6.0</td>\n",
       "      <td>0000366f3b9a7992bf8c76cfdf3221e2</td>\n",
       "      <td>credit_card</td>\n",
       "      <td>SP</td>\n",
       "      <td>bed_bath_table</td>\n",
       "      <td>2018-05-10 10:56:27</td>\n",
       "      <td>111</td>\n",
       "    </tr>\n",
       "    <tr>\n",
       "      <th>1</th>\n",
       "      <td>1</td>\n",
       "      <td>18.90</td>\n",
       "      <td>8.29</td>\n",
       "      <td>1.0</td>\n",
       "      <td>4.0</td>\n",
       "      <td>3.0</td>\n",
       "      <td>0000b849f77a49e4a4ce2b2a4ca5be3f</td>\n",
       "      <td>credit_card</td>\n",
       "      <td>SP</td>\n",
       "      <td>health_beauty</td>\n",
       "      <td>2018-05-07 11:11:27</td>\n",
       "      <td>114</td>\n",
       "    </tr>\n",
       "    <tr>\n",
       "      <th>2</th>\n",
       "      <td>1</td>\n",
       "      <td>69.00</td>\n",
       "      <td>17.22</td>\n",
       "      <td>8.0</td>\n",
       "      <td>3.0</td>\n",
       "      <td>26.0</td>\n",
       "      <td>0000f46a3911fa3c0805444483337064</td>\n",
       "      <td>credit_card</td>\n",
       "      <td>SC</td>\n",
       "      <td>stationery</td>\n",
       "      <td>2017-03-10 21:05:03</td>\n",
       "      <td>537</td>\n",
       "    </tr>\n",
       "    <tr>\n",
       "      <th>3</th>\n",
       "      <td>1</td>\n",
       "      <td>25.99</td>\n",
       "      <td>17.63</td>\n",
       "      <td>4.0</td>\n",
       "      <td>4.0</td>\n",
       "      <td>20.0</td>\n",
       "      <td>0000f6ccb0745a6a4b88665a16c9f078</td>\n",
       "      <td>credit_card</td>\n",
       "      <td>PA</td>\n",
       "      <td>telephony</td>\n",
       "      <td>2017-10-12 20:29:41</td>\n",
       "      <td>321</td>\n",
       "    </tr>\n",
       "    <tr>\n",
       "      <th>4</th>\n",
       "      <td>1</td>\n",
       "      <td>180.00</td>\n",
       "      <td>16.89</td>\n",
       "      <td>6.0</td>\n",
       "      <td>5.0</td>\n",
       "      <td>13.0</td>\n",
       "      <td>0004aac84e0df4da2b147fca70cf8255</td>\n",
       "      <td>credit_card</td>\n",
       "      <td>SP</td>\n",
       "      <td>telephony</td>\n",
       "      <td>2017-11-14 19:45:42</td>\n",
       "      <td>288</td>\n",
       "    </tr>\n",
       "    <tr>\n",
       "      <th>5</th>\n",
       "      <td>1</td>\n",
       "      <td>154.00</td>\n",
       "      <td>12.98</td>\n",
       "      <td>8.0</td>\n",
       "      <td>4.0</td>\n",
       "      <td>2.0</td>\n",
       "      <td>0004bd2a26a76fe21f786e4fbd80607f</td>\n",
       "      <td>credit_card</td>\n",
       "      <td>SP</td>\n",
       "      <td>garden_tools</td>\n",
       "      <td>2018-04-05 19:33:16</td>\n",
       "      <td>146</td>\n",
       "    </tr>\n",
       "  </tbody>\n",
       "</table>\n",
       "</div>"
      ],
      "text/plain": [
       "   nb_orders  total_pay  total_pay_livraison  mean_payment_installments  \\\n",
       "0          1     129.90                12.00                        8.0   \n",
       "1          1      18.90                 8.29                        1.0   \n",
       "2          1      69.00                17.22                        8.0   \n",
       "3          1      25.99                17.63                        4.0   \n",
       "4          1     180.00                16.89                        6.0   \n",
       "5          1     154.00                12.98                        8.0   \n",
       "\n",
       "   mean_review_score  mean_delai_livraison                customer_unique_id  \\\n",
       "0                5.0                   6.0  0000366f3b9a7992bf8c76cfdf3221e2   \n",
       "1                4.0                   3.0  0000b849f77a49e4a4ce2b2a4ca5be3f   \n",
       "2                3.0                  26.0  0000f46a3911fa3c0805444483337064   \n",
       "3                4.0                  20.0  0000f6ccb0745a6a4b88665a16c9f078   \n",
       "4                5.0                  13.0  0004aac84e0df4da2b147fca70cf8255   \n",
       "5                4.0                   2.0  0004bd2a26a76fe21f786e4fbd80607f   \n",
       "\n",
       "  payment_type customer_state product_category_name order_purchase_timestamp  \\\n",
       "0  credit_card             SP        bed_bath_table      2018-05-10 10:56:27   \n",
       "1  credit_card             SP         health_beauty      2018-05-07 11:11:27   \n",
       "2  credit_card             SC            stationery      2017-03-10 21:05:03   \n",
       "3  credit_card             PA             telephony      2017-10-12 20:29:41   \n",
       "4  credit_card             SP             telephony      2017-11-14 19:45:42   \n",
       "5  credit_card             SP          garden_tools      2018-04-05 19:33:16   \n",
       "\n",
       "   recency  \n",
       "0      111  \n",
       "1      114  \n",
       "2      537  \n",
       "3      321  \n",
       "4      288  \n",
       "5      146  "
      ]
     },
     "execution_count": 97,
     "metadata": {},
     "output_type": "execute_result"
    }
   ],
   "source": [
    "# Group by customers with sum or mean\n",
    "data_ = data.groupby(\"customer_unique_id\")\\\n",
    "            .agg({\"order_id\": \"nunique\",\n",
    "                  \"price\": \"sum\",\n",
    "                  \"freight_value\": \"sum\",\n",
    "                  \"sum_payment_installments\": \"mean\", \n",
    "                  \"review_score\": \"mean\",\n",
    "                  \"delai_livraison\": \"mean\",\n",
    "                  })\n",
    "# Rename columns\n",
    "data_ = data_.rename(columns={\"order_id\": \"nb_orders\",\n",
    "                            \"price\": \"total_pay\",\n",
    "                            \"freight_value\": \"total_pay_livraison\",\n",
    "                            \"sum_payment_installments\": \"mean_payment_installments\",\n",
    "                            \"review_score\": \"mean_review_score\",\n",
    "                            \"delai_livraison\": \"mean_delai_livraison\",\n",
    "                            })\n",
    "\n",
    "data= pd.merge(data_, data[[\"customer_unique_id\",\"payment_type\",\"customer_state\",\"product_category_name\",\"order_purchase_timestamp\"]], left_on= data_.index ,right_on =\"customer_unique_id\")\n",
    "# ici matcher avec ces features après le regroupement par customer_id_unique est à titre indicatif.\n",
    "data = pd.merge(data, recency ,how=\"left\",on=\"customer_unique_id\")\n",
    "data.head(6)"
   ]
  },
  {
   "cell_type": "markdown",
   "id": "d79c3545",
   "metadata": {},
   "source": [
    "normalisé les delai de livraison et periode d ordre"
   ]
  },
  {
   "cell_type": "code",
   "execution_count": 99,
   "id": "a27c00f4",
   "metadata": {
    "execution": {
     "iopub.execute_input": "2021-10-10T15:45:18.841003Z",
     "iopub.status.busy": "2021-10-10T15:45:18.840330Z",
     "iopub.status.idle": "2021-10-10T15:45:18.862576Z",
     "shell.execute_reply": "2021-10-10T15:45:18.863043Z",
     "shell.execute_reply.started": "2021-10-10T15:40:03.372240Z"
    },
    "papermill": {
     "duration": 0.114381,
     "end_time": "2021-10-10T15:45:18.863242",
     "exception": false,
     "start_time": "2021-10-10T15:45:18.748861",
     "status": "completed"
    },
    "tags": []
   },
   "outputs": [],
   "source": [
    "data[\"delai_livraison\"] = data[\"mean_delai_livraison\"] / data[\"nb_orders\"]\n"
   ]
  },
  {
   "cell_type": "code",
   "execution_count": 100,
   "id": "12f20fcb",
   "metadata": {},
   "outputs": [],
   "source": [
    "data.drop([\"mean_delai_livraison\"], inplace=True , axis=1 )"
   ]
  },
  {
   "cell_type": "markdown",
   "id": "e30e4bfc",
   "metadata": {
    "papermill": {
     "duration": 0.088312,
     "end_time": "2021-10-10T15:46:37.558613",
     "exception": false,
     "start_time": "2021-10-10T15:46:37.470301",
     "status": "completed"
    },
    "tags": []
   },
   "source": [
    "# Exploration du dataset client"
   ]
  },
  {
   "cell_type": "code",
   "execution_count": 102,
   "id": "b38a9d62",
   "metadata": {
    "execution": {
     "iopub.execute_input": "2021-10-10T15:46:37.966817Z",
     "iopub.status.busy": "2021-10-10T15:46:37.966170Z",
     "iopub.status.idle": "2021-10-10T15:46:37.992715Z",
     "shell.execute_reply": "2021-10-10T15:46:37.993212Z",
     "shell.execute_reply.started": "2021-10-10T15:41:26.457390Z"
    },
    "papermill": {
     "duration": 0.13632,
     "end_time": "2021-10-10T15:46:37.993409",
     "exception": false,
     "start_time": "2021-10-10T15:46:37.857089",
     "status": "completed"
    },
    "tags": []
   },
   "outputs": [
    {
     "name": "stdout",
     "output_type": "stream",
     "text": [
      "<class 'pandas.core.frame.DataFrame'>\n",
      "Int64Index: 115038 entries, 0 to 115037\n",
      "Data columns (total 12 columns):\n",
      " #   Column                     Non-Null Count   Dtype         \n",
      "---  ------                     --------------   -----         \n",
      " 0   nb_orders                  115038 non-null  int64         \n",
      " 1   total_pay                  115038 non-null  float64       \n",
      " 2   total_pay_livraison        115038 non-null  float64       \n",
      " 3   mean_payment_installments  115035 non-null  float64       \n",
      " 4   mean_review_score          114226 non-null  float64       \n",
      " 5   customer_unique_id         115038 non-null  object        \n",
      " 6   payment_type               115035 non-null  object        \n",
      " 7   customer_state             115038 non-null  object        \n",
      " 8   product_category_name      113387 non-null  object        \n",
      " 9   order_purchase_timestamp   115038 non-null  datetime64[ns]\n",
      " 10  recency                    115038 non-null  int64         \n",
      " 11  delai_livraison            115030 non-null  float64       \n",
      "dtypes: datetime64[ns](1), float64(5), int64(2), object(4)\n",
      "memory usage: 11.4+ MB\n"
     ]
    }
   ],
   "source": [
    "data.info()"
   ]
  },
  {
   "cell_type": "code",
   "execution_count": 103,
   "id": "740f5176",
   "metadata": {
    "execution": {
     "iopub.execute_input": "2021-10-10T15:46:38.355542Z",
     "iopub.status.busy": "2021-10-10T15:46:38.354900Z",
     "iopub.status.idle": "2021-10-10T15:46:38.407836Z",
     "shell.execute_reply": "2021-10-10T15:46:38.406855Z",
     "shell.execute_reply.started": "2021-10-10T15:41:26.512910Z"
    },
    "papermill": {
     "duration": 0.145034,
     "end_time": "2021-10-10T15:46:38.408010",
     "exception": false,
     "start_time": "2021-10-10T15:46:38.262976",
     "status": "completed"
    },
    "tags": []
   },
   "outputs": [
    {
     "name": "stdout",
     "output_type": "stream",
     "text": [
      "mean_payment_installments 1.0\n",
      "mean_review_score 5.0\n",
      "payment_type credit_card\n",
      "product_category_name bed_bath_table\n",
      "delai_livraison 7.0\n"
     ]
    }
   ],
   "source": [
    "# Find features to fill and fillna with mode\n",
    "features_to_fill = data.isnull().sum()\n",
    "features_to_fill = list(features_to_fill[features_to_fill.values > 0].index)\n",
    "\n",
    "for f in features_to_fill:\n",
    "    data[f] = data[f].fillna(data[f].mode()[0])\n",
    "    print(f, data[f].mode()[0])"
   ]
  },
  {
   "cell_type": "code",
   "execution_count": 104,
   "id": "43884f5b",
   "metadata": {
    "_kg_hide-output": true,
    "execution": {
     "iopub.execute_input": "2021-10-10T15:46:38.597433Z",
     "iopub.status.busy": "2021-10-10T15:46:38.595442Z",
     "iopub.status.idle": "2021-10-10T15:46:38.734053Z",
     "shell.execute_reply": "2021-10-10T15:46:38.734510Z",
     "shell.execute_reply.started": "2021-10-10T15:41:26.579339Z"
    },
    "papermill": {
     "duration": 0.236592,
     "end_time": "2021-10-10T15:46:38.734685",
     "exception": false,
     "start_time": "2021-10-10T15:46:38.498093",
     "status": "completed"
    },
    "tags": []
   },
   "outputs": [
    {
     "data": {
      "text/html": [
       "<div>\n",
       "<style scoped>\n",
       "    .dataframe tbody tr th:only-of-type {\n",
       "        vertical-align: middle;\n",
       "    }\n",
       "\n",
       "    .dataframe tbody tr th {\n",
       "        vertical-align: top;\n",
       "    }\n",
       "\n",
       "    .dataframe thead th {\n",
       "        text-align: right;\n",
       "    }\n",
       "</style>\n",
       "<table border=\"1\" class=\"dataframe\">\n",
       "  <thead>\n",
       "    <tr style=\"text-align: right;\">\n",
       "      <th></th>\n",
       "      <th>nb_orders</th>\n",
       "      <th>total_pay</th>\n",
       "      <th>total_pay_livraison</th>\n",
       "      <th>mean_payment_installments</th>\n",
       "      <th>mean_review_score</th>\n",
       "      <th>recency</th>\n",
       "      <th>delai_livraison</th>\n",
       "    </tr>\n",
       "  </thead>\n",
       "  <tbody>\n",
       "    <tr>\n",
       "      <th>count</th>\n",
       "      <td>115038.000000</td>\n",
       "      <td>115038.000000</td>\n",
       "      <td>115038.000000</td>\n",
       "      <td>115038.000000</td>\n",
       "      <td>115038.000000</td>\n",
       "      <td>115038.000000</td>\n",
       "      <td>115038.000000</td>\n",
       "    </tr>\n",
       "    <tr>\n",
       "      <th>mean</th>\n",
       "      <td>1.082381</td>\n",
       "      <td>191.595610</td>\n",
       "      <td>35.087491</td>\n",
       "      <td>3.165867</td>\n",
       "      <td>4.087629</td>\n",
       "      <td>237.828248</td>\n",
       "      <td>12.021792</td>\n",
       "    </tr>\n",
       "    <tr>\n",
       "      <th>std</th>\n",
       "      <td>0.384604</td>\n",
       "      <td>407.114015</td>\n",
       "      <td>65.879026</td>\n",
       "      <td>2.943612</td>\n",
       "      <td>1.332735</td>\n",
       "      <td>152.538695</td>\n",
       "      <td>9.409670</td>\n",
       "    </tr>\n",
       "    <tr>\n",
       "      <th>min</th>\n",
       "      <td>1.000000</td>\n",
       "      <td>0.850000</td>\n",
       "      <td>0.000000</td>\n",
       "      <td>0.000000</td>\n",
       "      <td>1.000000</td>\n",
       "      <td>0.000000</td>\n",
       "      <td>0.280000</td>\n",
       "    </tr>\n",
       "    <tr>\n",
       "      <th>25%</th>\n",
       "      <td>1.000000</td>\n",
       "      <td>51.960000</td>\n",
       "      <td>15.100000</td>\n",
       "      <td>1.000000</td>\n",
       "      <td>4.000000</td>\n",
       "      <td>114.000000</td>\n",
       "      <td>6.000000</td>\n",
       "    </tr>\n",
       "    <tr>\n",
       "      <th>50%</th>\n",
       "      <td>1.000000</td>\n",
       "      <td>99.990000</td>\n",
       "      <td>19.380000</td>\n",
       "      <td>2.000000</td>\n",
       "      <td>5.000000</td>\n",
       "      <td>219.000000</td>\n",
       "      <td>10.000000</td>\n",
       "    </tr>\n",
       "    <tr>\n",
       "      <th>75%</th>\n",
       "      <td>1.000000</td>\n",
       "      <td>189.900000</td>\n",
       "      <td>35.370000</td>\n",
       "      <td>4.000000</td>\n",
       "      <td>5.000000</td>\n",
       "      <td>346.000000</td>\n",
       "      <td>15.000000</td>\n",
       "    </tr>\n",
       "    <tr>\n",
       "      <th>max</th>\n",
       "      <td>15.000000</td>\n",
       "      <td>13440.000000</td>\n",
       "      <td>1794.960000</td>\n",
       "      <td>26.000000</td>\n",
       "      <td>5.000000</td>\n",
       "      <td>713.000000</td>\n",
       "      <td>210.000000</td>\n",
       "    </tr>\n",
       "  </tbody>\n",
       "</table>\n",
       "</div>"
      ],
      "text/plain": [
       "           nb_orders      total_pay  total_pay_livraison  \\\n",
       "count  115038.000000  115038.000000        115038.000000   \n",
       "mean        1.082381     191.595610            35.087491   \n",
       "std         0.384604     407.114015            65.879026   \n",
       "min         1.000000       0.850000             0.000000   \n",
       "25%         1.000000      51.960000            15.100000   \n",
       "50%         1.000000      99.990000            19.380000   \n",
       "75%         1.000000     189.900000            35.370000   \n",
       "max        15.000000   13440.000000          1794.960000   \n",
       "\n",
       "       mean_payment_installments  mean_review_score        recency  \\\n",
       "count              115038.000000      115038.000000  115038.000000   \n",
       "mean                    3.165867           4.087629     237.828248   \n",
       "std                     2.943612           1.332735     152.538695   \n",
       "min                     0.000000           1.000000       0.000000   \n",
       "25%                     1.000000           4.000000     114.000000   \n",
       "50%                     2.000000           5.000000     219.000000   \n",
       "75%                     4.000000           5.000000     346.000000   \n",
       "max                    26.000000           5.000000     713.000000   \n",
       "\n",
       "       delai_livraison  \n",
       "count    115038.000000  \n",
       "mean         12.021792  \n",
       "std           9.409670  \n",
       "min           0.280000  \n",
       "25%           6.000000  \n",
       "50%          10.000000  \n",
       "75%          15.000000  \n",
       "max         210.000000  "
      ]
     },
     "execution_count": 104,
     "metadata": {},
     "output_type": "execute_result"
    }
   ],
   "source": [
    "data.describe()"
   ]
  },
  {
   "cell_type": "code",
   "execution_count": 105,
   "id": "f814d995",
   "metadata": {},
   "outputs": [
    {
     "data": {
      "text/plain": [
       "(115038, 12)"
      ]
     },
     "execution_count": 105,
     "metadata": {},
     "output_type": "execute_result"
    }
   ],
   "source": [
    "data.shape"
   ]
  },
  {
   "cell_type": "code",
   "execution_count": 110,
   "id": "a452a407",
   "metadata": {},
   "outputs": [
    {
     "data": {
      "text/plain": [
       "0"
      ]
     },
     "execution_count": 110,
     "metadata": {},
     "output_type": "execute_result"
    }
   ],
   "source": [
    "data.duplicated().sum()\n"
   ]
  },
  {
   "cell_type": "code",
   "execution_count": 106,
   "id": "8ed6687a",
   "metadata": {},
   "outputs": [
    {
     "data": {
      "text/plain": [
       "(99294, 12)"
      ]
     },
     "execution_count": 106,
     "metadata": {},
     "output_type": "execute_result"
    }
   ],
   "source": [
    "data= data.drop_duplicates()\n",
    "data.shape"
   ]
  },
  {
   "cell_type": "markdown",
   "id": "68f6ffeb",
   "metadata": {
    "papermill": {
     "duration": 0.095932,
     "end_time": "2021-10-10T15:46:40.748994",
     "exception": false,
     "start_time": "2021-10-10T15:46:40.653062",
     "status": "completed"
    },
    "tags": []
   },
   "source": [
    "## Les différents états du fichier client :\n",
    "\n",
    "Ici, nous allons regader d'où viennent les clients et si cette localisation a un impact sur les ventes."
   ]
  },
  {
   "cell_type": "code",
   "execution_count": 107,
   "id": "bd1e2c63",
   "metadata": {
    "execution": {
     "iopub.execute_input": "2021-10-10T15:46:40.940204Z",
     "iopub.status.busy": "2021-10-10T15:46:40.939223Z",
     "iopub.status.idle": "2021-10-10T15:46:40.950625Z",
     "shell.execute_reply": "2021-10-10T15:46:40.951126Z",
     "shell.execute_reply.started": "2021-10-10T15:41:27.280418Z"
    },
    "papermill": {
     "duration": 0.108421,
     "end_time": "2021-10-10T15:46:40.951305",
     "exception": false,
     "start_time": "2021-10-10T15:46:40.842884",
     "status": "completed"
    },
    "tags": []
   },
   "outputs": [
    {
     "data": {
      "text/plain": [
       "array(['SP', 'SC', 'PA', 'PR', 'RJ', 'MA', 'ES', 'RS', 'MG', 'GO', 'DF',\n",
       "       'BA', 'MT', 'SE', 'TO', 'PE', 'CE', 'AL', 'AC', 'PI', 'PB', 'RN',\n",
       "       'AM', 'MS', 'AP', 'RO', 'RR'], dtype=object)"
      ]
     },
     "execution_count": 107,
     "metadata": {},
     "output_type": "execute_result"
    }
   ],
   "source": [
    "data[\"customer_state\"].unique()"
   ]
  },
  {
   "cell_type": "code",
   "execution_count": 108,
   "id": "2e443f9e",
   "metadata": {},
   "outputs": [
    {
     "data": {
      "text/plain": [
       "<AxesSubplot:title={'center':'stats les plus représentées\\n'}, ylabel='customer_state'>"
      ]
     },
     "execution_count": 108,
     "metadata": {},
     "output_type": "execute_result"
    },
    {
     "data": {
      "image/png": "[encoded data removed]",
      "text/plain": [
       "<Figure size 1080x1296 with 1 Axes>"
      ]
     },
     "metadata": {},
     "output_type": "display_data"
    }
   ],
   "source": [
    "stats=data.groupby(\"customer_state\").count()[\"customer_unique_id\"].sort_values()\n",
    "# alors\n",
    "plt.figure(figsize= (15,18) )\n",
    "ax= sns.set(style=\"whitegrid\")\n",
    "plt.title(\"stats les plus représentées\\n\")\n",
    "sns.barplot(x=stats.values, y=stats.index)"
   ]
  },
  {
   "cell_type": "markdown",
   "id": "41ec0165",
   "metadata": {
    "papermill": {
     "duration": 0.098131,
     "end_time": "2021-10-10T15:46:45.158239",
     "exception": false,
     "start_time": "2021-10-10T15:46:45.060108",
     "status": "completed"
    },
    "tags": []
   },
   "source": [
    "# Corrélations :"
   ]
  },
  {
   "cell_type": "code",
   "execution_count": 109,
   "id": "54d3651a",
   "metadata": {
    "execution": {
     "iopub.execute_input": "2021-10-10T15:46:45.360837Z",
     "iopub.status.busy": "2021-10-10T15:46:45.360126Z",
     "iopub.status.idle": "2021-10-10T15:46:47.500828Z",
     "shell.execute_reply": "2021-10-10T15:46:47.501307Z",
     "shell.execute_reply.started": "2021-10-10T15:41:29.606579Z"
    },
    "papermill": {
     "duration": 2.245406,
     "end_time": "2021-10-10T15:46:47.501512",
     "exception": false,
     "start_time": "2021-10-10T15:46:45.256106",
     "status": "completed"
    },
    "tags": []
   },
   "outputs": [
    {
     "data": {
      "image/png": "[encoded data removed]",
      "text/plain": [
       "<Figure size 1080x1080 with 2 Axes>"
      ]
     },
     "metadata": {},
     "output_type": "display_data"
    }
   ],
   "source": [
    "corr = data.corr()\n",
    "mask = np.zeros_like(corr)\n",
    "mask[np.triu_indices_from(mask)] = True\n",
    "fig, ax = plt.subplots(figsize=(15,15))\n",
    "ax = sns.heatmap(corr, annot=True,\n",
    "                 vmin=-1, vmax=1,\n",
    "                 fmt=\".2f\", annot_kws={'size':8}, \n",
    "                 mask=mask, \n",
    "                 center=0, \n",
    "                 cmap=\"coolwarm\")\n",
    "plt.title(\"Heatmap des corrélations linéaires\\n\", \n",
    "          )\n",
    "plt.show()"
   ]
  },
  {
   "cell_type": "markdown",
   "id": "a3782179",
   "metadata": {
    "papermill": {
     "duration": 0.105194,
     "end_time": "2021-10-10T15:46:47.712834",
     "exception": false,
     "start_time": "2021-10-10T15:46:47.607640",
     "status": "completed"
    },
    "tags": []
   },
   "source": [
    "* Le total payé pour livraison par clients est corrélé avec le total payé et total livraison et les echeance.\n",
    "\n",
    "* On remarque que le score de review est inversement corrélé au délai de livraison. \n",
    "\n",
    "* Le nombre de moyens de payement est positivement corrélé au montant totale payé sur la plateforme. \n",
    "\n",
    "* le nombre d echeance est positivement corrélé avec total payé et total livraison \n",
    "\n",
    "* nombre de commande est negativement corrélé à la période entre les commandes passées (donc positivement corrélé à la frequence des commandes passées). \n",
    "\n",
    "\n",
    "### Export du dataset final pour classification non-supervisée"
   ]
  },
  {
   "cell_type": "code",
   "execution_count": 111,
   "id": "c0318944",
   "metadata": {
    "execution": {
     "iopub.execute_input": "2021-10-10T15:46:47.930763Z",
     "iopub.status.busy": "2021-10-10T15:46:47.930001Z",
     "iopub.status.idle": "2021-10-10T15:46:49.394896Z",
     "shell.execute_reply": "2021-10-10T15:46:49.394337Z",
     "shell.execute_reply.started": "2021-10-10T15:41:31.841429Z"
    },
    "papermill": {
     "duration": 1.577004,
     "end_time": "2021-10-10T15:46:49.395055",
     "exception": false,
     "start_time": "2021-10-10T15:46:47.818051",
     "status": "completed"
    },
    "tags": []
   },
   "outputs": [],
   "source": [
    "data.to_csv(\"olist-customers-segmentation.csv\")"
   ]
  }
 ],
 "metadata": {
  "kernelspec": {
   "display_name": "Python 3",
   "language": "python",
   "name": "python3"
  },
  "language_info": {
   "codemirror_mode": {
    "name": "ipython",
    "version": 3
   },
   "file_extension": ".py",
   "mimetype": "text/x-python",
   "name": "python",
   "nbconvert_exporter": "python",
   "pygments_lexer": "ipython3",
   "version": "3.8.8"
  },
  "papermill": {
   "default_parameters": {},
   "duration": 171.719815,
   "end_time": "2021-10-10T15:46:50.309427",
   "environment_variables": {},
   "exception": null,
   "input_path": "__notebook__.ipynb",
   "output_path": "__notebook__.ipynb",
   "parameters": {},
   "start_time": "2021-10-10T15:43:58.589612",
   "version": "2.3.3"
  }
 },
 "nbformat": 4,
 "nbformat_minor": 5
}
